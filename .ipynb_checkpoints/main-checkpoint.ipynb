{
 "cells": [
  {
   "cell_type": "code",
   "execution_count": 1,
   "id": "13a4419f-1b44-4cf2-97bd-d98a07e70618",
   "metadata": {
    "tags": []
   },
   "outputs": [],
   "source": [
    "import pandas as pd\n",
    "import numpy as np\n",
    "from sklearn.preprocessing import MinMaxScaler, LabelEncoder, StandardScaler, RobustScaler"
   ]
  },
  {
   "cell_type": "code",
   "execution_count": 2,
   "id": "7bdae5e8-5005-43a2-b971-54bdb36fdb23",
   "metadata": {
    "tags": []
   },
   "outputs": [],
   "source": [
    "pd.set_option('display.max_columns', None)\n",
    "pd.set_option('display.max_rows', None)\n",
    "pd.set_option('display.float_format', lambda x: '%.3f' % x)\n",
    "pd.set_option('display.width', 500)"
   ]
  },
  {
   "cell_type": "code",
   "execution_count": 3,
   "id": "0abd33fa-4505-43cc-b356-a3b34db56bb3",
   "metadata": {
    "tags": []
   },
   "outputs": [],
   "source": [
    "def load():\n",
    "    data = pd.read_csv(\"datasets/titanic.csv\")\n",
    "    return data"
   ]
  },
  {
   "cell_type": "code",
   "execution_count": 4,
   "id": "82fa08d8-5f82-4e00-9f73-d886249c6d06",
   "metadata": {
    "tags": []
   },
   "outputs": [],
   "source": [
    "df = load()"
   ]
  },
  {
   "cell_type": "code",
   "execution_count": 5,
   "id": "909c4813-be21-4413-8d76-2fd987ab370c",
   "metadata": {
    "tags": []
   },
   "outputs": [
    {
     "data": {
      "text/plain": [
       "(891, 12)"
      ]
     },
     "execution_count": 5,
     "metadata": {},
     "output_type": "execute_result"
    }
   ],
   "source": [
    "df.shape"
   ]
  },
  {
   "cell_type": "code",
   "execution_count": 6,
   "id": "2dc17672-d22d-48f1-823b-51db4619f8ae",
   "metadata": {
    "tags": []
   },
   "outputs": [
    {
     "data": {
      "text/html": [
       "<div>\n",
       "<style scoped>\n",
       "    .dataframe tbody tr th:only-of-type {\n",
       "        vertical-align: middle;\n",
       "    }\n",
       "\n",
       "    .dataframe tbody tr th {\n",
       "        vertical-align: top;\n",
       "    }\n",
       "\n",
       "    .dataframe thead th {\n",
       "        text-align: right;\n",
       "    }\n",
       "</style>\n",
       "<table border=\"1\" class=\"dataframe\">\n",
       "  <thead>\n",
       "    <tr style=\"text-align: right;\">\n",
       "      <th></th>\n",
       "      <th>PassengerId</th>\n",
       "      <th>Survived</th>\n",
       "      <th>Pclass</th>\n",
       "      <th>Name</th>\n",
       "      <th>Sex</th>\n",
       "      <th>Age</th>\n",
       "      <th>SibSp</th>\n",
       "      <th>Parch</th>\n",
       "      <th>Ticket</th>\n",
       "      <th>Fare</th>\n",
       "      <th>Cabin</th>\n",
       "      <th>Embarked</th>\n",
       "    </tr>\n",
       "  </thead>\n",
       "  <tbody>\n",
       "    <tr>\n",
       "      <th>0</th>\n",
       "      <td>1</td>\n",
       "      <td>0</td>\n",
       "      <td>3</td>\n",
       "      <td>Braund, Mr. Owen Harris</td>\n",
       "      <td>male</td>\n",
       "      <td>22.000</td>\n",
       "      <td>1</td>\n",
       "      <td>0</td>\n",
       "      <td>A/5 21171</td>\n",
       "      <td>7.250</td>\n",
       "      <td>NaN</td>\n",
       "      <td>S</td>\n",
       "    </tr>\n",
       "    <tr>\n",
       "      <th>1</th>\n",
       "      <td>2</td>\n",
       "      <td>1</td>\n",
       "      <td>1</td>\n",
       "      <td>Cumings, Mrs. John Bradley (Florence Briggs Th...</td>\n",
       "      <td>female</td>\n",
       "      <td>38.000</td>\n",
       "      <td>1</td>\n",
       "      <td>0</td>\n",
       "      <td>PC 17599</td>\n",
       "      <td>71.283</td>\n",
       "      <td>C85</td>\n",
       "      <td>C</td>\n",
       "    </tr>\n",
       "    <tr>\n",
       "      <th>2</th>\n",
       "      <td>3</td>\n",
       "      <td>1</td>\n",
       "      <td>3</td>\n",
       "      <td>Heikkinen, Miss. Laina</td>\n",
       "      <td>female</td>\n",
       "      <td>26.000</td>\n",
       "      <td>0</td>\n",
       "      <td>0</td>\n",
       "      <td>STON/O2. 3101282</td>\n",
       "      <td>7.925</td>\n",
       "      <td>NaN</td>\n",
       "      <td>S</td>\n",
       "    </tr>\n",
       "    <tr>\n",
       "      <th>3</th>\n",
       "      <td>4</td>\n",
       "      <td>1</td>\n",
       "      <td>1</td>\n",
       "      <td>Futrelle, Mrs. Jacques Heath (Lily May Peel)</td>\n",
       "      <td>female</td>\n",
       "      <td>35.000</td>\n",
       "      <td>1</td>\n",
       "      <td>0</td>\n",
       "      <td>113803</td>\n",
       "      <td>53.100</td>\n",
       "      <td>C123</td>\n",
       "      <td>S</td>\n",
       "    </tr>\n",
       "    <tr>\n",
       "      <th>4</th>\n",
       "      <td>5</td>\n",
       "      <td>0</td>\n",
       "      <td>3</td>\n",
       "      <td>Allen, Mr. William Henry</td>\n",
       "      <td>male</td>\n",
       "      <td>35.000</td>\n",
       "      <td>0</td>\n",
       "      <td>0</td>\n",
       "      <td>373450</td>\n",
       "      <td>8.050</td>\n",
       "      <td>NaN</td>\n",
       "      <td>S</td>\n",
       "    </tr>\n",
       "  </tbody>\n",
       "</table>\n",
       "</div>"
      ],
      "text/plain": [
       "   PassengerId  Survived  Pclass                                               Name     Sex    Age  SibSp  Parch            Ticket   Fare Cabin Embarked\n",
       "0            1         0       3                            Braund, Mr. Owen Harris    male 22.000      1      0         A/5 21171  7.250   NaN        S\n",
       "1            2         1       1  Cumings, Mrs. John Bradley (Florence Briggs Th...  female 38.000      1      0          PC 17599 71.283   C85        C\n",
       "2            3         1       3                             Heikkinen, Miss. Laina  female 26.000      0      0  STON/O2. 3101282  7.925   NaN        S\n",
       "3            4         1       1       Futrelle, Mrs. Jacques Heath (Lily May Peel)  female 35.000      1      0            113803 53.100  C123        S\n",
       "4            5         0       3                           Allen, Mr. William Henry    male 35.000      0      0            373450  8.050   NaN        S"
      ]
     },
     "execution_count": 6,
     "metadata": {},
     "output_type": "execute_result"
    }
   ],
   "source": [
    "df.head()"
   ]
  },
  {
   "cell_type": "code",
   "execution_count": 7,
   "id": "705a9e85-1b3c-4b7d-892f-8137723c1d81",
   "metadata": {
    "tags": []
   },
   "outputs": [],
   "source": [
    "df.columns = [col.upper() for col in df.columns]"
   ]
  },
  {
   "cell_type": "markdown",
   "id": "ca941692-4593-4492-9db7-9240d3d0d49e",
   "metadata": {},
   "source": [
    "# Adding several new columns to a DataFrame"
   ]
  },
  {
   "cell_type": "code",
   "execution_count": 8,
   "id": "8e4faf14-98bc-4aa8-9947-5c91890ce50e",
   "metadata": {
    "tags": []
   },
   "outputs": [
    {
     "name": "stderr",
     "output_type": "stream",
     "text": [
      "C:\\Users\\Ali Fırat Kaya\\AppData\\Local\\Temp\\ipykernel_15288\\2414830090.py:16: FutureWarning: Setting an item of incompatible dtype is deprecated and will raise in a future error of pandas. Value 'NO' has dtype incompatible with float64, please explicitly cast to a compatible dtype first.\n",
      "  df.loc[((df['SIBSP'] + df['PARCH']) > 0), \"NEW_IS_ALONE\"] = \"NO\"\n",
      "C:\\Users\\Ali Fırat Kaya\\AppData\\Local\\Temp\\ipykernel_15288\\2414830090.py:19: FutureWarning: Setting an item of incompatible dtype is deprecated and will raise in a future error of pandas. Value 'young' has dtype incompatible with float64, please explicitly cast to a compatible dtype first.\n",
      "  df.loc[(df['AGE'] < 18), 'NEW_AGE_CAT'] = 'young'\n",
      "C:\\Users\\Ali Fırat Kaya\\AppData\\Local\\Temp\\ipykernel_15288\\2414830090.py:23: FutureWarning: Setting an item of incompatible dtype is deprecated and will raise in a future error of pandas. Value 'youngmale' has dtype incompatible with float64, please explicitly cast to a compatible dtype first.\n",
      "  df.loc[(df['SEX'] == 'male') & (df['AGE'] <= 21), 'NEW_SEX_CAT'] = 'youngmale'\n"
     ]
    }
   ],
   "source": [
    "# Cabin bool\n",
    "df[\"NEW_CABIN_BOOL\"] = df[\"CABIN\"].notnull().astype('int')\n",
    "# Name count\n",
    "df[\"NEW_NAME_COUNT\"] = df[\"NAME\"].str.len()\n",
    "# name word count\n",
    "df[\"NEW_NAME_WORD_COUNT\"] = df[\"NAME\"].apply(lambda x: len(str(x).split(\" \")))\n",
    "# name dr\n",
    "df[\"NEW_NAME_DR\"] = df[\"NAME\"].apply(lambda x: len([x for x in x.split() if x.startswith(\"Dr\")]))\n",
    "# name title\n",
    "df['NEW_TITLE'] = df.NAME.str.extract(' ([A-Za-z]+)\\.', expand=False)\n",
    "# family size\n",
    "df[\"NEW_FAMILY_SIZE\"] = df[\"SIBSP\"] + df[\"PARCH\"] + 1\n",
    "# age_pclass\n",
    "df[\"NEW_AGE_PCLASS\"] = df[\"AGE\"] * df[\"PCLASS\"]\n",
    "# is alone\n",
    "df.loc[((df['SIBSP'] + df['PARCH']) > 0), \"NEW_IS_ALONE\"] = \"NO\"\n",
    "df.loc[((df['SIBSP'] + df['PARCH']) == 0), \"NEW_IS_ALONE\"] = \"YES\"\n",
    "# age level\n",
    "df.loc[(df['AGE'] < 18), 'NEW_AGE_CAT'] = 'young'\n",
    "df.loc[(df['AGE'] >= 18) & (df['AGE'] < 56), 'NEW_AGE_CAT'] = 'mature'\n",
    "df.loc[(df['AGE'] >= 56), 'NEW_AGE_CAT'] = 'senior'\n",
    "# sex x age\n",
    "df.loc[(df['SEX'] == 'male') & (df['AGE'] <= 21), 'NEW_SEX_CAT'] = 'youngmale'\n",
    "df.loc[(df['SEX'] == 'male') & (df['AGE'] > 21) & (df['AGE'] < 50), 'NEW_SEX_CAT'] = 'maturemale'\n",
    "df.loc[(df['SEX'] == 'male') & (df['AGE'] >= 50), 'NEW_SEX_CAT'] = 'seniormale'\n",
    "df.loc[(df['SEX'] == 'female') & (df['AGE'] <= 21), 'NEW_SEX_CAT'] = 'youngfemale'\n",
    "df.loc[(df['SEX'] == 'female') & (df['AGE'] > 21) & (df['AGE'] < 50), 'NEW_SEX_CAT'] = 'maturefemale'\n",
    "df.loc[(df['SEX'] == 'female') & (df['AGE'] >= 50), 'NEW_SEX_CAT'] = 'seniorfemale'"
   ]
  },
  {
   "cell_type": "code",
   "execution_count": 9,
   "id": "0e906d0f-1143-45d1-ba5e-18c3b9655620",
   "metadata": {
    "tags": []
   },
   "outputs": [
    {
     "data": {
      "text/html": [
       "<div>\n",
       "<style scoped>\n",
       "    .dataframe tbody tr th:only-of-type {\n",
       "        vertical-align: middle;\n",
       "    }\n",
       "\n",
       "    .dataframe tbody tr th {\n",
       "        vertical-align: top;\n",
       "    }\n",
       "\n",
       "    .dataframe thead th {\n",
       "        text-align: right;\n",
       "    }\n",
       "</style>\n",
       "<table border=\"1\" class=\"dataframe\">\n",
       "  <thead>\n",
       "    <tr style=\"text-align: right;\">\n",
       "      <th></th>\n",
       "      <th>PASSENGERID</th>\n",
       "      <th>SURVIVED</th>\n",
       "      <th>PCLASS</th>\n",
       "      <th>NAME</th>\n",
       "      <th>SEX</th>\n",
       "      <th>AGE</th>\n",
       "      <th>SIBSP</th>\n",
       "      <th>PARCH</th>\n",
       "      <th>TICKET</th>\n",
       "      <th>FARE</th>\n",
       "      <th>CABIN</th>\n",
       "      <th>EMBARKED</th>\n",
       "      <th>NEW_CABIN_BOOL</th>\n",
       "      <th>NEW_NAME_COUNT</th>\n",
       "      <th>NEW_NAME_WORD_COUNT</th>\n",
       "      <th>NEW_NAME_DR</th>\n",
       "      <th>NEW_TITLE</th>\n",
       "      <th>NEW_FAMILY_SIZE</th>\n",
       "      <th>NEW_AGE_PCLASS</th>\n",
       "      <th>NEW_IS_ALONE</th>\n",
       "      <th>NEW_AGE_CAT</th>\n",
       "      <th>NEW_SEX_CAT</th>\n",
       "    </tr>\n",
       "  </thead>\n",
       "  <tbody>\n",
       "    <tr>\n",
       "      <th>0</th>\n",
       "      <td>1</td>\n",
       "      <td>0</td>\n",
       "      <td>3</td>\n",
       "      <td>Braund, Mr. Owen Harris</td>\n",
       "      <td>male</td>\n",
       "      <td>22.000</td>\n",
       "      <td>1</td>\n",
       "      <td>0</td>\n",
       "      <td>A/5 21171</td>\n",
       "      <td>7.250</td>\n",
       "      <td>NaN</td>\n",
       "      <td>S</td>\n",
       "      <td>0</td>\n",
       "      <td>23</td>\n",
       "      <td>4</td>\n",
       "      <td>0</td>\n",
       "      <td>Mr</td>\n",
       "      <td>2</td>\n",
       "      <td>66.000</td>\n",
       "      <td>NO</td>\n",
       "      <td>mature</td>\n",
       "      <td>maturemale</td>\n",
       "    </tr>\n",
       "    <tr>\n",
       "      <th>1</th>\n",
       "      <td>2</td>\n",
       "      <td>1</td>\n",
       "      <td>1</td>\n",
       "      <td>Cumings, Mrs. John Bradley (Florence Briggs Th...</td>\n",
       "      <td>female</td>\n",
       "      <td>38.000</td>\n",
       "      <td>1</td>\n",
       "      <td>0</td>\n",
       "      <td>PC 17599</td>\n",
       "      <td>71.283</td>\n",
       "      <td>C85</td>\n",
       "      <td>C</td>\n",
       "      <td>1</td>\n",
       "      <td>51</td>\n",
       "      <td>7</td>\n",
       "      <td>0</td>\n",
       "      <td>Mrs</td>\n",
       "      <td>2</td>\n",
       "      <td>38.000</td>\n",
       "      <td>NO</td>\n",
       "      <td>mature</td>\n",
       "      <td>maturefemale</td>\n",
       "    </tr>\n",
       "    <tr>\n",
       "      <th>2</th>\n",
       "      <td>3</td>\n",
       "      <td>1</td>\n",
       "      <td>3</td>\n",
       "      <td>Heikkinen, Miss. Laina</td>\n",
       "      <td>female</td>\n",
       "      <td>26.000</td>\n",
       "      <td>0</td>\n",
       "      <td>0</td>\n",
       "      <td>STON/O2. 3101282</td>\n",
       "      <td>7.925</td>\n",
       "      <td>NaN</td>\n",
       "      <td>S</td>\n",
       "      <td>0</td>\n",
       "      <td>22</td>\n",
       "      <td>3</td>\n",
       "      <td>0</td>\n",
       "      <td>Miss</td>\n",
       "      <td>1</td>\n",
       "      <td>78.000</td>\n",
       "      <td>YES</td>\n",
       "      <td>mature</td>\n",
       "      <td>maturefemale</td>\n",
       "    </tr>\n",
       "    <tr>\n",
       "      <th>3</th>\n",
       "      <td>4</td>\n",
       "      <td>1</td>\n",
       "      <td>1</td>\n",
       "      <td>Futrelle, Mrs. Jacques Heath (Lily May Peel)</td>\n",
       "      <td>female</td>\n",
       "      <td>35.000</td>\n",
       "      <td>1</td>\n",
       "      <td>0</td>\n",
       "      <td>113803</td>\n",
       "      <td>53.100</td>\n",
       "      <td>C123</td>\n",
       "      <td>S</td>\n",
       "      <td>1</td>\n",
       "      <td>44</td>\n",
       "      <td>7</td>\n",
       "      <td>0</td>\n",
       "      <td>Mrs</td>\n",
       "      <td>2</td>\n",
       "      <td>35.000</td>\n",
       "      <td>NO</td>\n",
       "      <td>mature</td>\n",
       "      <td>maturefemale</td>\n",
       "    </tr>\n",
       "    <tr>\n",
       "      <th>4</th>\n",
       "      <td>5</td>\n",
       "      <td>0</td>\n",
       "      <td>3</td>\n",
       "      <td>Allen, Mr. William Henry</td>\n",
       "      <td>male</td>\n",
       "      <td>35.000</td>\n",
       "      <td>0</td>\n",
       "      <td>0</td>\n",
       "      <td>373450</td>\n",
       "      <td>8.050</td>\n",
       "      <td>NaN</td>\n",
       "      <td>S</td>\n",
       "      <td>0</td>\n",
       "      <td>24</td>\n",
       "      <td>4</td>\n",
       "      <td>0</td>\n",
       "      <td>Mr</td>\n",
       "      <td>1</td>\n",
       "      <td>105.000</td>\n",
       "      <td>YES</td>\n",
       "      <td>mature</td>\n",
       "      <td>maturemale</td>\n",
       "    </tr>\n",
       "  </tbody>\n",
       "</table>\n",
       "</div>"
      ],
      "text/plain": [
       "   PASSENGERID  SURVIVED  PCLASS                                               NAME     SEX    AGE  SIBSP  PARCH            TICKET   FARE CABIN EMBARKED  NEW_CABIN_BOOL  NEW_NAME_COUNT  NEW_NAME_WORD_COUNT  NEW_NAME_DR NEW_TITLE  NEW_FAMILY_SIZE  NEW_AGE_PCLASS NEW_IS_ALONE NEW_AGE_CAT   NEW_SEX_CAT\n",
       "0            1         0       3                            Braund, Mr. Owen Harris    male 22.000      1      0         A/5 21171  7.250   NaN        S               0              23                    4            0        Mr                2          66.000           NO      mature    maturemale\n",
       "1            2         1       1  Cumings, Mrs. John Bradley (Florence Briggs Th...  female 38.000      1      0          PC 17599 71.283   C85        C               1              51                    7            0       Mrs                2          38.000           NO      mature  maturefemale\n",
       "2            3         1       3                             Heikkinen, Miss. Laina  female 26.000      0      0  STON/O2. 3101282  7.925   NaN        S               0              22                    3            0      Miss                1          78.000          YES      mature  maturefemale\n",
       "3            4         1       1       Futrelle, Mrs. Jacques Heath (Lily May Peel)  female 35.000      1      0            113803 53.100  C123        S               1              44                    7            0       Mrs                2          35.000           NO      mature  maturefemale\n",
       "4            5         0       3                           Allen, Mr. William Henry    male 35.000      0      0            373450  8.050   NaN        S               0              24                    4            0        Mr                1         105.000          YES      mature    maturemale"
      ]
     },
     "execution_count": 9,
     "metadata": {},
     "output_type": "execute_result"
    }
   ],
   "source": [
    "df.head()"
   ]
  },
  {
   "cell_type": "code",
   "execution_count": 10,
   "id": "1cfd5e57-8637-44de-bc16-9e920a0e6f9a",
   "metadata": {
    "tags": []
   },
   "outputs": [
    {
     "data": {
      "text/plain": [
       "(891, 22)"
      ]
     },
     "execution_count": 10,
     "metadata": {},
     "output_type": "execute_result"
    }
   ],
   "source": [
    "df.shape"
   ]
  },
  {
   "cell_type": "markdown",
   "id": "c5255299-617d-4fe6-86b3-5440f1fd20b6",
   "metadata": {},
   "source": [
    "# Analyze and categorize columns within a given DataFrame based on certain criteria"
   ]
  },
  {
   "cell_type": "code",
   "execution_count": 11,
   "id": "00487111-3f85-4c68-bc90-279b44b5cc0a",
   "metadata": {
    "tags": []
   },
   "outputs": [],
   "source": [
    "def grab_col_names(dataframe, cat_th=10, car_th=20):\n",
    "\n",
    "    # cat_cols, cat_but_car\n",
    "    cat_cols = [col for col in dataframe.columns if dataframe[col].dtypes == \"O\"]\n",
    "    num_but_cat = [col for col in dataframe.columns if dataframe[col].nunique() < cat_th and\n",
    "                   dataframe[col].dtypes != \"O\"]\n",
    "    cat_but_car = [col for col in dataframe.columns if dataframe[col].nunique() > car_th and\n",
    "                   dataframe[col].dtypes == \"O\"]\n",
    "    cat_cols = cat_cols + num_but_cat\n",
    "    cat_cols = [col for col in cat_cols if col not in cat_but_car]\n",
    "\n",
    "    # num_cols\n",
    "    num_cols = [col for col in dataframe.columns if dataframe[col].dtypes != \"O\"]\n",
    "    num_cols = [col for col in num_cols if col not in num_but_cat]\n",
    "\n",
    "    print(f\"Observations: {dataframe.shape[0]}\")\n",
    "    print(f\"Variables: {dataframe.shape[1]}\")\n",
    "    print(f'cat_cols: {len(cat_cols)}')\n",
    "    print(f'num_cols: {len(num_cols)}')\n",
    "    print(f'cat_but_car: {len(cat_but_car)}')\n",
    "    print(f'num_but_cat: {len(num_but_cat)}')\n",
    "    return cat_cols, num_cols, cat_but_car"
   ]
  },
  {
   "cell_type": "code",
   "execution_count": 12,
   "id": "ccda2781-36e7-4508-9ce2-f8d055fc05b7",
   "metadata": {
    "tags": []
   },
   "outputs": [
    {
     "name": "stdout",
     "output_type": "stream",
     "text": [
      "Observations: 891\n",
      "Variables: 22\n",
      "cat_cols: 14\n",
      "num_cols: 5\n",
      "cat_but_car: 3\n",
      "num_but_cat: 8\n"
     ]
    }
   ],
   "source": [
    "cat_cols, num_cols, cat_but_car = grab_col_names(df)"
   ]
  },
  {
   "cell_type": "code",
   "execution_count": 13,
   "id": "3d8e4c32-d825-4665-9b7e-7d2a5caec9f7",
   "metadata": {
    "tags": []
   },
   "outputs": [
    {
     "data": {
      "text/plain": [
       "['SEX',\n",
       " 'EMBARKED',\n",
       " 'NEW_TITLE',\n",
       " 'NEW_IS_ALONE',\n",
       " 'NEW_AGE_CAT',\n",
       " 'NEW_SEX_CAT',\n",
       " 'SURVIVED',\n",
       " 'PCLASS',\n",
       " 'SIBSP',\n",
       " 'PARCH',\n",
       " 'NEW_CABIN_BOOL',\n",
       " 'NEW_NAME_WORD_COUNT',\n",
       " 'NEW_NAME_DR',\n",
       " 'NEW_FAMILY_SIZE']"
      ]
     },
     "execution_count": 13,
     "metadata": {},
     "output_type": "execute_result"
    }
   ],
   "source": [
    "cat_cols"
   ]
  },
  {
   "cell_type": "code",
   "execution_count": 14,
   "id": "a48a29f9-655d-4a0f-9e54-7e53bec4d86d",
   "metadata": {
    "tags": []
   },
   "outputs": [
    {
     "data": {
      "text/plain": [
       "['PASSENGERID', 'AGE', 'FARE', 'NEW_NAME_COUNT', 'NEW_AGE_PCLASS']"
      ]
     },
     "execution_count": 14,
     "metadata": {},
     "output_type": "execute_result"
    }
   ],
   "source": [
    "num_cols"
   ]
  },
  {
   "cell_type": "code",
   "execution_count": 15,
   "id": "0c71c0cf-4a37-4340-9093-aecf5be73163",
   "metadata": {
    "tags": []
   },
   "outputs": [
    {
     "data": {
      "text/plain": [
       "['NAME', 'TICKET', 'CABIN']"
      ]
     },
     "execution_count": 15,
     "metadata": {},
     "output_type": "execute_result"
    }
   ],
   "source": [
    "cat_but_car"
   ]
  },
  {
   "cell_type": "code",
   "execution_count": 16,
   "id": "f66017de-a413-4771-b7eb-2ba1adcfc553",
   "metadata": {
    "tags": []
   },
   "outputs": [],
   "source": [
    "num_cols = [col for col in num_cols if \"PASSENGERID\" not in col]"
   ]
  },
  {
   "cell_type": "markdown",
   "id": "847d1435-6766-4bc2-8fa6-f3f77e0ef6fc",
   "metadata": {},
   "source": [
    "# Outliers"
   ]
  },
  {
   "cell_type": "code",
   "execution_count": 17,
   "id": "d13fe5e5-0fc0-426f-87ed-2437906b5946",
   "metadata": {
    "tags": []
   },
   "outputs": [],
   "source": [
    "def outlier_thresholds(dataframe, col_name, q1=0.25, q3=0.75):\n",
    "    quartile1 = dataframe[col_name].quantile(q1)\n",
    "    quartile3 = dataframe[col_name].quantile(q3)\n",
    "    interquantile_range = quartile3 - quartile1\n",
    "    up_limit = quartile3 + 1.5 * interquantile_range\n",
    "    low_limit = quartile1 - 1.5 * interquantile_range\n",
    "    return low_limit, up_limit"
   ]
  },
  {
   "cell_type": "code",
   "execution_count": 18,
   "id": "5e0e7a46-4577-4310-b0ae-520cc1e7b703",
   "metadata": {
    "tags": []
   },
   "outputs": [],
   "source": [
    "def check_outlier(dataframe, col_name):\n",
    "    low_limit, up_limit = outlier_thresholds(dataframe, col_name)\n",
    "    if dataframe[(dataframe[col_name] > up_limit) | (dataframe[col_name] < low_limit)].any(axis=None):\n",
    "        return True\n",
    "    else:\n",
    "        return False"
   ]
  },
  {
   "cell_type": "code",
   "execution_count": 19,
   "id": "441fa83c-a109-42c2-89df-d59f72f9d71b",
   "metadata": {
    "tags": []
   },
   "outputs": [],
   "source": [
    "def replace_with_thresholds(dataframe, variable):\n",
    "    low_limit, up_limit = outlier_thresholds(dataframe, variable)\n",
    "    dataframe.loc[(dataframe[variable] < low_limit), variable] = low_limit\n",
    "    dataframe.loc[(dataframe[variable] > up_limit), variable] = up_limit"
   ]
  },
  {
   "cell_type": "code",
   "execution_count": 20,
   "id": "ac0e58c2-9178-46ba-99f8-a4a0e45d2e98",
   "metadata": {
    "tags": []
   },
   "outputs": [
    {
     "name": "stdout",
     "output_type": "stream",
     "text": [
      "AGE True\n",
      "FARE True\n",
      "NEW_NAME_COUNT True\n",
      "NEW_AGE_PCLASS True\n"
     ]
    }
   ],
   "source": [
    "for col in num_cols:\n",
    "    print(col, check_outlier(df, col))"
   ]
  },
  {
   "cell_type": "code",
   "execution_count": 21,
   "id": "a75531da-4d47-4112-9d71-f4d25adc0481",
   "metadata": {
    "tags": []
   },
   "outputs": [],
   "source": [
    "for col in num_cols:\n",
    "    replace_with_thresholds(df, col)"
   ]
  },
  {
   "cell_type": "code",
   "execution_count": 22,
   "id": "5c4839f2-5e26-40e8-8198-3986fd2b60ee",
   "metadata": {
    "tags": []
   },
   "outputs": [
    {
     "name": "stdout",
     "output_type": "stream",
     "text": [
      "AGE False\n",
      "FARE False\n",
      "NEW_NAME_COUNT False\n",
      "NEW_AGE_PCLASS False\n"
     ]
    }
   ],
   "source": [
    "for col in num_cols:\n",
    "    print(col, check_outlier(df, col))"
   ]
  },
  {
   "cell_type": "markdown",
   "id": "6d3213fd-4dfb-44de-945b-93d5bdeee930",
   "metadata": {
    "tags": []
   },
   "source": [
    "# Missing Values"
   ]
  },
  {
   "cell_type": "code",
   "execution_count": 23,
   "id": "902134a5-d5c5-45c0-b5e1-0895aef33553",
   "metadata": {
    "tags": []
   },
   "outputs": [],
   "source": [
    "def missing_values_table(dataframe, na_name=False):\n",
    "    na_columns = [col for col in dataframe.columns if dataframe[col].isnull().sum() > 0]\n",
    "\n",
    "    n_miss = dataframe[na_columns].isnull().sum().sort_values(ascending=False)\n",
    "    ratio = (dataframe[na_columns].isnull().sum() / dataframe.shape[0] * 100).sort_values(ascending=False)\n",
    "    missing_df = pd.concat([n_miss, np.round(ratio, 2)], axis=1, keys=['n_miss', 'ratio'])\n",
    "    print(missing_df, end=\"\\n\")\n",
    "\n",
    "    if na_name:\n",
    "        return na_columns"
   ]
  },
  {
   "cell_type": "code",
   "execution_count": 24,
   "id": "2fe5c11c-effb-4ede-9a44-e882cde6c333",
   "metadata": {
    "tags": []
   },
   "outputs": [
    {
     "name": "stdout",
     "output_type": "stream",
     "text": [
      "                n_miss  ratio\n",
      "CABIN              687 77.100\n",
      "AGE                177 19.870\n",
      "NEW_AGE_PCLASS     177 19.870\n",
      "NEW_AGE_CAT        177 19.870\n",
      "NEW_SEX_CAT        177 19.870\n",
      "EMBARKED             2  0.220\n"
     ]
    }
   ],
   "source": [
    "missing_values_table(df)"
   ]
  },
  {
   "cell_type": "code",
   "execution_count": 25,
   "id": "0ac9e20d-d521-4b8f-8489-1d2a4c5cdf5e",
   "metadata": {
    "tags": []
   },
   "outputs": [],
   "source": [
    "df.drop(\"CABIN\", inplace=True, axis=1)"
   ]
  },
  {
   "cell_type": "code",
   "execution_count": 26,
   "id": "da54a7b9-89e3-473d-8657-6cc222ad6dd9",
   "metadata": {
    "tags": []
   },
   "outputs": [
    {
     "name": "stdout",
     "output_type": "stream",
     "text": [
      "                n_miss  ratio\n",
      "AGE                177 19.870\n",
      "NEW_AGE_PCLASS     177 19.870\n",
      "NEW_AGE_CAT        177 19.870\n",
      "NEW_SEX_CAT        177 19.870\n",
      "EMBARKED             2  0.220\n"
     ]
    }
   ],
   "source": [
    "missing_values_table(df)"
   ]
  },
  {
   "cell_type": "code",
   "execution_count": 27,
   "id": "88f4f6c2-f03c-43ba-a4c9-7162e797f7d7",
   "metadata": {
    "tags": []
   },
   "outputs": [],
   "source": [
    "remove_cols = [\"TICKET\", \"NAME\"]\n",
    "df.drop(remove_cols, inplace=True, axis=1)"
   ]
  },
  {
   "cell_type": "code",
   "execution_count": 28,
   "id": "7d5418a2-2a94-4be1-b85b-023e32adbac5",
   "metadata": {
    "tags": []
   },
   "outputs": [],
   "source": [
    "df[\"AGE\"] = df[\"AGE\"].fillna(df.groupby(\"NEW_TITLE\")[\"AGE\"].transform(\"median\"))"
   ]
  },
  {
   "cell_type": "code",
   "execution_count": 29,
   "id": "87a1e7aa-425a-4ec5-a30d-3182326e979d",
   "metadata": {
    "tags": []
   },
   "outputs": [],
   "source": [
    "df[\"NEW_AGE_PCLASS\"] = df[\"AGE\"] * df[\"PCLASS\"]"
   ]
  },
  {
   "cell_type": "code",
   "execution_count": 30,
   "id": "9b2ff788-17c8-4a99-9700-cb587fea60ab",
   "metadata": {
    "tags": []
   },
   "outputs": [],
   "source": [
    "df.loc[(df['AGE'] < 18), 'NEW_AGE_CAT'] = 'young'\n",
    "df.loc[(df['AGE'] >= 18) & (df['AGE'] < 56), 'NEW_AGE_CAT'] = 'mature'\n",
    "df.loc[(df['AGE'] >= 56), 'NEW_AGE_CAT'] = 'senior'\n",
    "\n",
    "df.loc[(df['SEX'] == 'male') & (df['AGE'] <= 21), 'NEW_SEX_CAT'] = 'youngmale'\n",
    "df.loc[(df['SEX'] == 'male') & (df['AGE'] > 21) & (df['AGE'] < 50), 'NEW_SEX_CAT'] = 'maturemale'\n",
    "df.loc[(df['SEX'] == 'male') & (df['AGE'] >= 50), 'NEW_SEX_CAT'] = 'seniormale'\n",
    "df.loc[(df['SEX'] == 'female') & (df['AGE'] <= 21), 'NEW_SEX_CAT'] = 'youngfemale'\n",
    "df.loc[(df['SEX'] == 'female') & (df['AGE'] > 21) & (df['AGE'] < 50), 'NEW_SEX_CAT'] = 'maturefemale'\n",
    "df.loc[(df['SEX'] == 'female') & (df['AGE'] >= 50), 'NEW_SEX_CAT'] = 'seniorfemale'"
   ]
  },
  {
   "cell_type": "code",
   "execution_count": 31,
   "id": "a5157456-1d79-4c11-93ea-a05e59dedaab",
   "metadata": {
    "tags": []
   },
   "outputs": [
    {
     "name": "stdout",
     "output_type": "stream",
     "text": [
      "          n_miss  ratio\n",
      "EMBARKED       2  0.220\n"
     ]
    }
   ],
   "source": [
    "missing_values_table(df)"
   ]
  },
  {
   "cell_type": "code",
   "execution_count": 32,
   "id": "6ef8b15d-3cf0-448c-b51f-becf2648cc07",
   "metadata": {
    "tags": []
   },
   "outputs": [],
   "source": [
    "df = df.apply(lambda x: x.fillna(x.mode()[0]) if (x.dtype == \"O\" and len(x.unique()) <= 10) else x, axis=0)"
   ]
  },
  {
   "cell_type": "code",
   "execution_count": 33,
   "id": "bddf1400-b931-410b-b7da-e3aa8c0f2fd8",
   "metadata": {
    "tags": []
   },
   "outputs": [
    {
     "name": "stdout",
     "output_type": "stream",
     "text": [
      "Empty DataFrame\n",
      "Columns: [n_miss, ratio]\n",
      "Index: []\n"
     ]
    }
   ],
   "source": [
    "missing_values_table(df)"
   ]
  },
  {
   "cell_type": "markdown",
   "id": "198591ec-5fc0-42d1-bf8b-2c2019fcd09f",
   "metadata": {},
   "source": [
    "# Label Encoding"
   ]
  },
  {
   "cell_type": "code",
   "execution_count": 34,
   "id": "58f8f49b-04cd-403a-bae4-ba5c0b185460",
   "metadata": {
    "tags": []
   },
   "outputs": [],
   "source": [
    "def label_encoder(dataframe, binary_col):\n",
    "    labelencoder = LabelEncoder()\n",
    "    dataframe[binary_col] = labelencoder.fit_transform(dataframe[binary_col])\n",
    "    return dataframe"
   ]
  },
  {
   "cell_type": "code",
   "execution_count": 35,
   "id": "db816cdc-f37d-4404-999f-117872cc5233",
   "metadata": {
    "tags": []
   },
   "outputs": [],
   "source": [
    "binary_cols = [col for col in df.columns if df[col].dtype not in [int, float]\n",
    "               and df[col].nunique() == 2]"
   ]
  },
  {
   "cell_type": "code",
   "execution_count": 36,
   "id": "49c99cce-9f6e-4abe-91a7-73d7feb35756",
   "metadata": {
    "tags": []
   },
   "outputs": [
    {
     "data": {
      "text/plain": [
       "['SURVIVED', 'SEX', 'NEW_NAME_DR', 'NEW_IS_ALONE']"
      ]
     },
     "execution_count": 36,
     "metadata": {},
     "output_type": "execute_result"
    }
   ],
   "source": [
    "binary_cols"
   ]
  },
  {
   "cell_type": "code",
   "execution_count": 37,
   "id": "ae7f803c-9f9a-4b1b-a437-3874e905c54c",
   "metadata": {
    "tags": []
   },
   "outputs": [],
   "source": [
    "for col in binary_cols:\n",
    "    df = label_encoder(df, col)"
   ]
  },
  {
   "cell_type": "markdown",
   "id": "eb051feb-4ba1-4ce0-9b05-71846fa85970",
   "metadata": {},
   "source": [
    "# Rare Encoding"
   ]
  },
  {
   "cell_type": "code",
   "execution_count": 38,
   "id": "6478d803-ad08-44ed-94af-4b423ce65dd3",
   "metadata": {
    "tags": []
   },
   "outputs": [],
   "source": [
    "def rare_analyser(dataframe, target, cat_cols):\n",
    "    for col in cat_cols:\n",
    "        print(col, \":\", len(dataframe[col].value_counts()))\n",
    "        print(pd.DataFrame({\"COUNT\": dataframe[col].value_counts(),\n",
    "                            \"RATIO\": dataframe[col].value_counts() / len(dataframe),\n",
    "                            \"TARGET_MEAN\": dataframe.groupby(col)[target].mean()}), end=\"\\n\\n\\n\")"
   ]
  },
  {
   "cell_type": "code",
   "execution_count": 39,
   "id": "0f47d45d-e688-4e90-895a-c35e7f4a8df4",
   "metadata": {
    "tags": []
   },
   "outputs": [
    {
     "name": "stdout",
     "output_type": "stream",
     "text": [
      "SEX : 2\n",
      "     COUNT  RATIO  TARGET_MEAN\n",
      "SEX                           \n",
      "0      314  0.352        0.742\n",
      "1      577  0.648        0.189\n",
      "\n",
      "\n",
      "EMBARKED : 3\n",
      "          COUNT  RATIO  TARGET_MEAN\n",
      "EMBARKED                           \n",
      "C           168  0.189        0.554\n",
      "Q            77  0.086        0.390\n",
      "S           646  0.725        0.339\n",
      "\n",
      "\n",
      "NEW_TITLE : 17\n",
      "           COUNT  RATIO  TARGET_MEAN\n",
      "NEW_TITLE                           \n",
      "Capt           1  0.001        0.000\n",
      "Col            2  0.002        0.500\n",
      "Countess       1  0.001        1.000\n",
      "Don            1  0.001        0.000\n",
      "Dr             7  0.008        0.429\n",
      "Jonkheer       1  0.001        0.000\n",
      "Lady           1  0.001        1.000\n",
      "Major          2  0.002        0.500\n",
      "Master        40  0.045        0.575\n",
      "Miss         182  0.204        0.698\n",
      "Mlle           2  0.002        1.000\n",
      "Mme            1  0.001        1.000\n",
      "Mr           517  0.580        0.157\n",
      "Mrs          125  0.140        0.792\n",
      "Ms             1  0.001        1.000\n",
      "Rev            6  0.007        0.000\n",
      "Sir            1  0.001        1.000\n",
      "\n",
      "\n",
      "NEW_IS_ALONE : 2\n",
      "              COUNT  RATIO  TARGET_MEAN\n",
      "NEW_IS_ALONE                           \n",
      "0               354  0.397        0.506\n",
      "1               537  0.603        0.304\n",
      "\n",
      "\n",
      "NEW_AGE_CAT : 3\n",
      "             COUNT  RATIO  TARGET_MEAN\n",
      "NEW_AGE_CAT                           \n",
      "mature         735  0.825        0.363\n",
      "senior          39  0.044        0.308\n",
      "young          117  0.131        0.538\n",
      "\n",
      "\n",
      "NEW_SEX_CAT : 6\n",
      "              COUNT  RATIO  TARGET_MEAN\n",
      "NEW_SEX_CAT                            \n",
      "maturefemale    172  0.193        0.779\n",
      "maturemale      401  0.450        0.175\n",
      "seniorfemale     22  0.025        0.909\n",
      "seniormale       52  0.058        0.135\n",
      "youngfemale     120  0.135        0.658\n",
      "youngmale       124  0.139        0.258\n",
      "\n",
      "\n",
      "SURVIVED : 2\n",
      "          COUNT  RATIO  TARGET_MEAN\n",
      "SURVIVED                           \n",
      "0           549  0.616        0.000\n",
      "1           342  0.384        1.000\n",
      "\n",
      "\n",
      "PCLASS : 3\n",
      "        COUNT  RATIO  TARGET_MEAN\n",
      "PCLASS                           \n",
      "1         216  0.242        0.630\n",
      "2         184  0.207        0.473\n",
      "3         491  0.551        0.242\n",
      "\n",
      "\n",
      "SIBSP : 7\n",
      "       COUNT  RATIO  TARGET_MEAN\n",
      "SIBSP                           \n",
      "0        608  0.682        0.345\n",
      "1        209  0.235        0.536\n",
      "2         28  0.031        0.464\n",
      "3         16  0.018        0.250\n",
      "4         18  0.020        0.167\n",
      "5          5  0.006        0.000\n",
      "8          7  0.008        0.000\n",
      "\n",
      "\n",
      "PARCH : 7\n",
      "       COUNT  RATIO  TARGET_MEAN\n",
      "PARCH                           \n",
      "0        678  0.761        0.344\n",
      "1        118  0.132        0.551\n",
      "2         80  0.090        0.500\n",
      "3          5  0.006        0.600\n",
      "4          4  0.004        0.000\n",
      "5          5  0.006        0.200\n",
      "6          1  0.001        0.000\n",
      "\n",
      "\n",
      "NEW_CABIN_BOOL : 2\n",
      "                COUNT  RATIO  TARGET_MEAN\n",
      "NEW_CABIN_BOOL                           \n",
      "0                 687  0.771        0.300\n",
      "1                 204  0.229        0.667\n",
      "\n",
      "\n",
      "NEW_NAME_WORD_COUNT : 8\n",
      "                     COUNT  RATIO  TARGET_MEAN\n",
      "NEW_NAME_WORD_COUNT                           \n",
      "3                      305  0.342        0.292\n",
      "4                      388  0.435        0.340\n",
      "5                       96  0.108        0.427\n",
      "6                       53  0.059        0.774\n",
      "7                       38  0.043        0.842\n",
      "8                        9  0.010        0.556\n",
      "9                        1  0.001        1.000\n",
      "14                       1  0.001        1.000\n",
      "\n",
      "\n",
      "NEW_NAME_DR : 2\n",
      "             COUNT  RATIO  TARGET_MEAN\n",
      "NEW_NAME_DR                           \n",
      "0              881  0.989        0.383\n",
      "1               10  0.011        0.500\n",
      "\n",
      "\n",
      "NEW_FAMILY_SIZE : 9\n",
      "                 COUNT  RATIO  TARGET_MEAN\n",
      "NEW_FAMILY_SIZE                           \n",
      "1                  537  0.603        0.304\n",
      "2                  161  0.181        0.553\n",
      "3                  102  0.114        0.578\n",
      "4                   29  0.033        0.724\n",
      "5                   15  0.017        0.200\n",
      "6                   22  0.025        0.136\n",
      "7                   12  0.013        0.333\n",
      "8                    6  0.007        0.000\n",
      "11                   7  0.008        0.000\n",
      "\n",
      "\n"
     ]
    }
   ],
   "source": [
    "rare_analyser(df, \"SURVIVED\", cat_cols)"
   ]
  },
  {
   "cell_type": "code",
   "execution_count": 40,
   "id": "ebe9f46a-ca23-47d8-922b-44b8b8956943",
   "metadata": {
    "tags": []
   },
   "outputs": [],
   "source": [
    "def rare_encoder(dataframe, rare_perc):\n",
    "    temp_df = dataframe.copy()\n",
    "\n",
    "    rare_columns = [col for col in temp_df.columns if temp_df[col].dtypes == 'O'\n",
    "                    and (temp_df[col].value_counts() / len(temp_df) < rare_perc).any(axis=None)]\n",
    "\n",
    "    for var in rare_columns:\n",
    "        tmp = temp_df[var].value_counts() / len(temp_df)\n",
    "        rare_labels = tmp[tmp < rare_perc].index\n",
    "        temp_df[var] = np.where(temp_df[var].isin(rare_labels), 'Rare', temp_df[var])\n",
    "\n",
    "    return temp_df"
   ]
  },
  {
   "cell_type": "code",
   "execution_count": 41,
   "id": "ddf72084-7fc0-466f-9ea6-65dc684560af",
   "metadata": {
    "tags": []
   },
   "outputs": [],
   "source": [
    "df = rare_encoder(df, 0.01)"
   ]
  },
  {
   "cell_type": "code",
   "execution_count": 42,
   "id": "dfa52847-3055-4f9d-b137-f4cf2cec73e6",
   "metadata": {
    "tags": []
   },
   "outputs": [
    {
     "data": {
      "text/plain": [
       "NEW_TITLE\n",
       "Mr        517\n",
       "Miss      182\n",
       "Mrs       125\n",
       "Master     40\n",
       "Rare       27\n",
       "Name: count, dtype: int64"
      ]
     },
     "execution_count": 42,
     "metadata": {},
     "output_type": "execute_result"
    }
   ],
   "source": [
    "df[\"NEW_TITLE\"].value_counts()"
   ]
  },
  {
   "cell_type": "markdown",
   "id": "845fdbca-6a17-4193-87fb-eac8c05dd6ef",
   "metadata": {},
   "source": [
    "# One-Hot Encoding"
   ]
  },
  {
   "cell_type": "code",
   "execution_count": 43,
   "id": "98e47961-453f-4f20-ae3e-27365e911431",
   "metadata": {},
   "outputs": [],
   "source": [
    "ohe_cols = [col for col in df.columns if 10 >= df[col].nunique() > 2]"
   ]
  },
  {
   "cell_type": "code",
   "execution_count": 44,
   "id": "3e1b8a1a-aced-4eef-8cf2-702ec31c9995",
   "metadata": {
    "tags": []
   },
   "outputs": [],
   "source": [
    "def one_hot_encoder(dataframe, categorical_cols, drop_first=True):\n",
    "    dataframe = pd.get_dummies(dataframe, columns=categorical_cols, drop_first=drop_first)\n",
    "    return dataframe"
   ]
  },
  {
   "cell_type": "code",
   "execution_count": 45,
   "id": "5ed44161-bd89-44cd-88f1-457243645e59",
   "metadata": {
    "tags": []
   },
   "outputs": [],
   "source": [
    "df = one_hot_encoder(df, ohe_cols)"
   ]
  },
  {
   "cell_type": "code",
   "execution_count": 46,
   "id": "32dffe4f-40a1-4845-8d42-ffb5038abf35",
   "metadata": {
    "tags": []
   },
   "outputs": [
    {
     "data": {
      "text/html": [
       "<div>\n",
       "<style scoped>\n",
       "    .dataframe tbody tr th:only-of-type {\n",
       "        vertical-align: middle;\n",
       "    }\n",
       "\n",
       "    .dataframe tbody tr th {\n",
       "        vertical-align: top;\n",
       "    }\n",
       "\n",
       "    .dataframe thead th {\n",
       "        text-align: right;\n",
       "    }\n",
       "</style>\n",
       "<table border=\"1\" class=\"dataframe\">\n",
       "  <thead>\n",
       "    <tr style=\"text-align: right;\">\n",
       "      <th></th>\n",
       "      <th>PASSENGERID</th>\n",
       "      <th>SURVIVED</th>\n",
       "      <th>SEX</th>\n",
       "      <th>AGE</th>\n",
       "      <th>FARE</th>\n",
       "      <th>NEW_CABIN_BOOL</th>\n",
       "      <th>NEW_NAME_COUNT</th>\n",
       "      <th>NEW_NAME_DR</th>\n",
       "      <th>NEW_AGE_PCLASS</th>\n",
       "      <th>NEW_IS_ALONE</th>\n",
       "      <th>PCLASS_2</th>\n",
       "      <th>PCLASS_3</th>\n",
       "      <th>SIBSP_1</th>\n",
       "      <th>SIBSP_2</th>\n",
       "      <th>SIBSP_3</th>\n",
       "      <th>SIBSP_4</th>\n",
       "      <th>SIBSP_5</th>\n",
       "      <th>SIBSP_8</th>\n",
       "      <th>PARCH_1</th>\n",
       "      <th>PARCH_2</th>\n",
       "      <th>PARCH_3</th>\n",
       "      <th>PARCH_4</th>\n",
       "      <th>PARCH_5</th>\n",
       "      <th>PARCH_6</th>\n",
       "      <th>EMBARKED_Q</th>\n",
       "      <th>EMBARKED_S</th>\n",
       "      <th>NEW_NAME_WORD_COUNT_4</th>\n",
       "      <th>NEW_NAME_WORD_COUNT_5</th>\n",
       "      <th>NEW_NAME_WORD_COUNT_6</th>\n",
       "      <th>NEW_NAME_WORD_COUNT_7</th>\n",
       "      <th>NEW_NAME_WORD_COUNT_8</th>\n",
       "      <th>NEW_NAME_WORD_COUNT_9</th>\n",
       "      <th>NEW_NAME_WORD_COUNT_14</th>\n",
       "      <th>NEW_TITLE_Miss</th>\n",
       "      <th>NEW_TITLE_Mr</th>\n",
       "      <th>NEW_TITLE_Mrs</th>\n",
       "      <th>NEW_TITLE_Rare</th>\n",
       "      <th>NEW_FAMILY_SIZE_2</th>\n",
       "      <th>NEW_FAMILY_SIZE_3</th>\n",
       "      <th>NEW_FAMILY_SIZE_4</th>\n",
       "      <th>NEW_FAMILY_SIZE_5</th>\n",
       "      <th>NEW_FAMILY_SIZE_6</th>\n",
       "      <th>NEW_FAMILY_SIZE_7</th>\n",
       "      <th>NEW_FAMILY_SIZE_8</th>\n",
       "      <th>NEW_FAMILY_SIZE_11</th>\n",
       "      <th>NEW_AGE_CAT_senior</th>\n",
       "      <th>NEW_AGE_CAT_young</th>\n",
       "      <th>NEW_SEX_CAT_maturemale</th>\n",
       "      <th>NEW_SEX_CAT_seniorfemale</th>\n",
       "      <th>NEW_SEX_CAT_seniormale</th>\n",
       "      <th>NEW_SEX_CAT_youngfemale</th>\n",
       "      <th>NEW_SEX_CAT_youngmale</th>\n",
       "    </tr>\n",
       "  </thead>\n",
       "  <tbody>\n",
       "    <tr>\n",
       "      <th>0</th>\n",
       "      <td>1</td>\n",
       "      <td>0</td>\n",
       "      <td>1</td>\n",
       "      <td>22.000</td>\n",
       "      <td>7.250</td>\n",
       "      <td>0</td>\n",
       "      <td>23</td>\n",
       "      <td>0</td>\n",
       "      <td>66.000</td>\n",
       "      <td>0</td>\n",
       "      <td>False</td>\n",
       "      <td>True</td>\n",
       "      <td>True</td>\n",
       "      <td>False</td>\n",
       "      <td>False</td>\n",
       "      <td>False</td>\n",
       "      <td>False</td>\n",
       "      <td>False</td>\n",
       "      <td>False</td>\n",
       "      <td>False</td>\n",
       "      <td>False</td>\n",
       "      <td>False</td>\n",
       "      <td>False</td>\n",
       "      <td>False</td>\n",
       "      <td>False</td>\n",
       "      <td>True</td>\n",
       "      <td>True</td>\n",
       "      <td>False</td>\n",
       "      <td>False</td>\n",
       "      <td>False</td>\n",
       "      <td>False</td>\n",
       "      <td>False</td>\n",
       "      <td>False</td>\n",
       "      <td>False</td>\n",
       "      <td>True</td>\n",
       "      <td>False</td>\n",
       "      <td>False</td>\n",
       "      <td>True</td>\n",
       "      <td>False</td>\n",
       "      <td>False</td>\n",
       "      <td>False</td>\n",
       "      <td>False</td>\n",
       "      <td>False</td>\n",
       "      <td>False</td>\n",
       "      <td>False</td>\n",
       "      <td>False</td>\n",
       "      <td>False</td>\n",
       "      <td>True</td>\n",
       "      <td>False</td>\n",
       "      <td>False</td>\n",
       "      <td>False</td>\n",
       "      <td>False</td>\n",
       "    </tr>\n",
       "    <tr>\n",
       "      <th>1</th>\n",
       "      <td>2</td>\n",
       "      <td>1</td>\n",
       "      <td>0</td>\n",
       "      <td>38.000</td>\n",
       "      <td>65.634</td>\n",
       "      <td>1</td>\n",
       "      <td>45</td>\n",
       "      <td>0</td>\n",
       "      <td>38.000</td>\n",
       "      <td>0</td>\n",
       "      <td>False</td>\n",
       "      <td>False</td>\n",
       "      <td>True</td>\n",
       "      <td>False</td>\n",
       "      <td>False</td>\n",
       "      <td>False</td>\n",
       "      <td>False</td>\n",
       "      <td>False</td>\n",
       "      <td>False</td>\n",
       "      <td>False</td>\n",
       "      <td>False</td>\n",
       "      <td>False</td>\n",
       "      <td>False</td>\n",
       "      <td>False</td>\n",
       "      <td>False</td>\n",
       "      <td>False</td>\n",
       "      <td>False</td>\n",
       "      <td>False</td>\n",
       "      <td>False</td>\n",
       "      <td>True</td>\n",
       "      <td>False</td>\n",
       "      <td>False</td>\n",
       "      <td>False</td>\n",
       "      <td>False</td>\n",
       "      <td>False</td>\n",
       "      <td>True</td>\n",
       "      <td>False</td>\n",
       "      <td>True</td>\n",
       "      <td>False</td>\n",
       "      <td>False</td>\n",
       "      <td>False</td>\n",
       "      <td>False</td>\n",
       "      <td>False</td>\n",
       "      <td>False</td>\n",
       "      <td>False</td>\n",
       "      <td>False</td>\n",
       "      <td>False</td>\n",
       "      <td>False</td>\n",
       "      <td>False</td>\n",
       "      <td>False</td>\n",
       "      <td>False</td>\n",
       "      <td>False</td>\n",
       "    </tr>\n",
       "    <tr>\n",
       "      <th>2</th>\n",
       "      <td>3</td>\n",
       "      <td>1</td>\n",
       "      <td>0</td>\n",
       "      <td>26.000</td>\n",
       "      <td>7.925</td>\n",
       "      <td>0</td>\n",
       "      <td>22</td>\n",
       "      <td>0</td>\n",
       "      <td>78.000</td>\n",
       "      <td>1</td>\n",
       "      <td>False</td>\n",
       "      <td>True</td>\n",
       "      <td>False</td>\n",
       "      <td>False</td>\n",
       "      <td>False</td>\n",
       "      <td>False</td>\n",
       "      <td>False</td>\n",
       "      <td>False</td>\n",
       "      <td>False</td>\n",
       "      <td>False</td>\n",
       "      <td>False</td>\n",
       "      <td>False</td>\n",
       "      <td>False</td>\n",
       "      <td>False</td>\n",
       "      <td>False</td>\n",
       "      <td>True</td>\n",
       "      <td>False</td>\n",
       "      <td>False</td>\n",
       "      <td>False</td>\n",
       "      <td>False</td>\n",
       "      <td>False</td>\n",
       "      <td>False</td>\n",
       "      <td>False</td>\n",
       "      <td>True</td>\n",
       "      <td>False</td>\n",
       "      <td>False</td>\n",
       "      <td>False</td>\n",
       "      <td>False</td>\n",
       "      <td>False</td>\n",
       "      <td>False</td>\n",
       "      <td>False</td>\n",
       "      <td>False</td>\n",
       "      <td>False</td>\n",
       "      <td>False</td>\n",
       "      <td>False</td>\n",
       "      <td>False</td>\n",
       "      <td>False</td>\n",
       "      <td>False</td>\n",
       "      <td>False</td>\n",
       "      <td>False</td>\n",
       "      <td>False</td>\n",
       "      <td>False</td>\n",
       "    </tr>\n",
       "    <tr>\n",
       "      <th>3</th>\n",
       "      <td>4</td>\n",
       "      <td>1</td>\n",
       "      <td>0</td>\n",
       "      <td>35.000</td>\n",
       "      <td>53.100</td>\n",
       "      <td>1</td>\n",
       "      <td>44</td>\n",
       "      <td>0</td>\n",
       "      <td>35.000</td>\n",
       "      <td>0</td>\n",
       "      <td>False</td>\n",
       "      <td>False</td>\n",
       "      <td>True</td>\n",
       "      <td>False</td>\n",
       "      <td>False</td>\n",
       "      <td>False</td>\n",
       "      <td>False</td>\n",
       "      <td>False</td>\n",
       "      <td>False</td>\n",
       "      <td>False</td>\n",
       "      <td>False</td>\n",
       "      <td>False</td>\n",
       "      <td>False</td>\n",
       "      <td>False</td>\n",
       "      <td>False</td>\n",
       "      <td>True</td>\n",
       "      <td>False</td>\n",
       "      <td>False</td>\n",
       "      <td>False</td>\n",
       "      <td>True</td>\n",
       "      <td>False</td>\n",
       "      <td>False</td>\n",
       "      <td>False</td>\n",
       "      <td>False</td>\n",
       "      <td>False</td>\n",
       "      <td>True</td>\n",
       "      <td>False</td>\n",
       "      <td>True</td>\n",
       "      <td>False</td>\n",
       "      <td>False</td>\n",
       "      <td>False</td>\n",
       "      <td>False</td>\n",
       "      <td>False</td>\n",
       "      <td>False</td>\n",
       "      <td>False</td>\n",
       "      <td>False</td>\n",
       "      <td>False</td>\n",
       "      <td>False</td>\n",
       "      <td>False</td>\n",
       "      <td>False</td>\n",
       "      <td>False</td>\n",
       "      <td>False</td>\n",
       "    </tr>\n",
       "    <tr>\n",
       "      <th>4</th>\n",
       "      <td>5</td>\n",
       "      <td>0</td>\n",
       "      <td>1</td>\n",
       "      <td>35.000</td>\n",
       "      <td>8.050</td>\n",
       "      <td>0</td>\n",
       "      <td>24</td>\n",
       "      <td>0</td>\n",
       "      <td>105.000</td>\n",
       "      <td>1</td>\n",
       "      <td>False</td>\n",
       "      <td>True</td>\n",
       "      <td>False</td>\n",
       "      <td>False</td>\n",
       "      <td>False</td>\n",
       "      <td>False</td>\n",
       "      <td>False</td>\n",
       "      <td>False</td>\n",
       "      <td>False</td>\n",
       "      <td>False</td>\n",
       "      <td>False</td>\n",
       "      <td>False</td>\n",
       "      <td>False</td>\n",
       "      <td>False</td>\n",
       "      <td>False</td>\n",
       "      <td>True</td>\n",
       "      <td>True</td>\n",
       "      <td>False</td>\n",
       "      <td>False</td>\n",
       "      <td>False</td>\n",
       "      <td>False</td>\n",
       "      <td>False</td>\n",
       "      <td>False</td>\n",
       "      <td>False</td>\n",
       "      <td>True</td>\n",
       "      <td>False</td>\n",
       "      <td>False</td>\n",
       "      <td>False</td>\n",
       "      <td>False</td>\n",
       "      <td>False</td>\n",
       "      <td>False</td>\n",
       "      <td>False</td>\n",
       "      <td>False</td>\n",
       "      <td>False</td>\n",
       "      <td>False</td>\n",
       "      <td>False</td>\n",
       "      <td>False</td>\n",
       "      <td>True</td>\n",
       "      <td>False</td>\n",
       "      <td>False</td>\n",
       "      <td>False</td>\n",
       "      <td>False</td>\n",
       "    </tr>\n",
       "  </tbody>\n",
       "</table>\n",
       "</div>"
      ],
      "text/plain": [
       "   PASSENGERID  SURVIVED  SEX    AGE   FARE  NEW_CABIN_BOOL  NEW_NAME_COUNT  NEW_NAME_DR  NEW_AGE_PCLASS  NEW_IS_ALONE  PCLASS_2  PCLASS_3  SIBSP_1  SIBSP_2  SIBSP_3  SIBSP_4  SIBSP_5  SIBSP_8  PARCH_1  PARCH_2  PARCH_3  PARCH_4  PARCH_5  PARCH_6  EMBARKED_Q  EMBARKED_S  NEW_NAME_WORD_COUNT_4  NEW_NAME_WORD_COUNT_5  NEW_NAME_WORD_COUNT_6  NEW_NAME_WORD_COUNT_7  NEW_NAME_WORD_COUNT_8  NEW_NAME_WORD_COUNT_9  NEW_NAME_WORD_COUNT_14  NEW_TITLE_Miss  NEW_TITLE_Mr  NEW_TITLE_Mrs  NEW_TITLE_Rare  \\\n",
       "0            1         0    1 22.000  7.250               0              23            0          66.000             0     False      True     True    False    False    False    False    False    False    False    False    False    False    False       False        True                   True                  False                  False                  False                  False                  False                   False           False          True          False           False   \n",
       "1            2         1    0 38.000 65.634               1              45            0          38.000             0     False     False     True    False    False    False    False    False    False    False    False    False    False    False       False       False                  False                  False                  False                   True                  False                  False                   False           False         False           True           False   \n",
       "2            3         1    0 26.000  7.925               0              22            0          78.000             1     False      True    False    False    False    False    False    False    False    False    False    False    False    False       False        True                  False                  False                  False                  False                  False                  False                   False            True         False          False           False   \n",
       "3            4         1    0 35.000 53.100               1              44            0          35.000             0     False     False     True    False    False    False    False    False    False    False    False    False    False    False       False        True                  False                  False                  False                   True                  False                  False                   False           False         False           True           False   \n",
       "4            5         0    1 35.000  8.050               0              24            0         105.000             1     False      True    False    False    False    False    False    False    False    False    False    False    False    False       False        True                   True                  False                  False                  False                  False                  False                   False           False          True          False           False   \n",
       "\n",
       "   NEW_FAMILY_SIZE_2  NEW_FAMILY_SIZE_3  NEW_FAMILY_SIZE_4  NEW_FAMILY_SIZE_5  NEW_FAMILY_SIZE_6  NEW_FAMILY_SIZE_7  NEW_FAMILY_SIZE_8  NEW_FAMILY_SIZE_11  NEW_AGE_CAT_senior  NEW_AGE_CAT_young  NEW_SEX_CAT_maturemale  NEW_SEX_CAT_seniorfemale  NEW_SEX_CAT_seniormale  NEW_SEX_CAT_youngfemale  NEW_SEX_CAT_youngmale  \n",
       "0               True              False              False              False              False              False              False               False               False              False                    True                     False                   False                    False                  False  \n",
       "1               True              False              False              False              False              False              False               False               False              False                   False                     False                   False                    False                  False  \n",
       "2              False              False              False              False              False              False              False               False               False              False                   False                     False                   False                    False                  False  \n",
       "3               True              False              False              False              False              False              False               False               False              False                   False                     False                   False                    False                  False  \n",
       "4              False              False              False              False              False              False              False               False               False              False                    True                     False                   False                    False                  False  "
      ]
     },
     "execution_count": 46,
     "metadata": {},
     "output_type": "execute_result"
    }
   ],
   "source": [
    "df.head()"
   ]
  },
  {
   "cell_type": "code",
   "execution_count": 47,
   "id": "af241319-0970-4aec-8a1f-92fd4f11bd48",
   "metadata": {
    "tags": []
   },
   "outputs": [
    {
     "data": {
      "text/plain": [
       "(891, 52)"
      ]
     },
     "execution_count": 47,
     "metadata": {},
     "output_type": "execute_result"
    }
   ],
   "source": [
    "df.shape"
   ]
  },
  {
   "cell_type": "code",
   "execution_count": 48,
   "id": "0ab36313-d63a-4c82-ac57-f6e519bc9737",
   "metadata": {
    "tags": []
   },
   "outputs": [
    {
     "name": "stdout",
     "output_type": "stream",
     "text": [
      "Observations: 891\n",
      "Variables: 52\n",
      "cat_cols: 47\n",
      "num_cols: 5\n",
      "cat_but_car: 0\n",
      "num_but_cat: 47\n"
     ]
    }
   ],
   "source": [
    "cat_cols, num_cols, cat_but_car = grab_col_names(df)"
   ]
  },
  {
   "cell_type": "code",
   "execution_count": 49,
   "id": "7a140524-20c9-4a03-b927-a4dc3d63afb3",
   "metadata": {
    "tags": []
   },
   "outputs": [],
   "source": [
    "num_cols = [col for col in num_cols if \"PASSENGERID\" not in col]"
   ]
  },
  {
   "cell_type": "code",
   "execution_count": 50,
   "id": "3674a8ac-dfd7-46b8-b284-ad297d9da97c",
   "metadata": {
    "tags": []
   },
   "outputs": [
    {
     "data": {
      "text/plain": [
       "['AGE', 'FARE', 'NEW_NAME_COUNT', 'NEW_AGE_PCLASS']"
      ]
     },
     "execution_count": 50,
     "metadata": {},
     "output_type": "execute_result"
    }
   ],
   "source": [
    "num_cols"
   ]
  },
  {
   "cell_type": "code",
   "execution_count": 51,
   "id": "7deef37c-7d16-49d2-8cd5-dc90626278c2",
   "metadata": {
    "tags": []
   },
   "outputs": [
    {
     "name": "stdout",
     "output_type": "stream",
     "text": [
      "SURVIVED : 2\n",
      "          COUNT  RATIO  TARGET_MEAN\n",
      "SURVIVED                           \n",
      "0           549  0.616        0.000\n",
      "1           342  0.384        1.000\n",
      "\n",
      "\n",
      "SEX : 2\n",
      "     COUNT  RATIO  TARGET_MEAN\n",
      "SEX                           \n",
      "0      314  0.352        0.742\n",
      "1      577  0.648        0.189\n",
      "\n",
      "\n",
      "NEW_CABIN_BOOL : 2\n",
      "                COUNT  RATIO  TARGET_MEAN\n",
      "NEW_CABIN_BOOL                           \n",
      "0                 687  0.771        0.300\n",
      "1                 204  0.229        0.667\n",
      "\n",
      "\n",
      "NEW_NAME_DR : 2\n",
      "             COUNT  RATIO  TARGET_MEAN\n",
      "NEW_NAME_DR                           \n",
      "0              881  0.989        0.383\n",
      "1               10  0.011        0.500\n",
      "\n",
      "\n",
      "NEW_IS_ALONE : 2\n",
      "              COUNT  RATIO  TARGET_MEAN\n",
      "NEW_IS_ALONE                           \n",
      "0               354  0.397        0.506\n",
      "1               537  0.603        0.304\n",
      "\n",
      "\n",
      "PCLASS_2 : 2\n",
      "          COUNT  RATIO  TARGET_MEAN\n",
      "PCLASS_2                           \n",
      "False       707  0.793        0.361\n",
      "True        184  0.207        0.473\n",
      "\n",
      "\n",
      "PCLASS_3 : 2\n",
      "          COUNT  RATIO  TARGET_MEAN\n",
      "PCLASS_3                           \n",
      "False       400  0.449        0.557\n",
      "True        491  0.551        0.242\n",
      "\n",
      "\n",
      "SIBSP_1 : 2\n",
      "         COUNT  RATIO  TARGET_MEAN\n",
      "SIBSP_1                           \n",
      "False      682  0.765        0.337\n",
      "True       209  0.235        0.536\n",
      "\n",
      "\n",
      "SIBSP_2 : 2\n",
      "         COUNT  RATIO  TARGET_MEAN\n",
      "SIBSP_2                           \n",
      "False      863  0.969        0.381\n",
      "True        28  0.031        0.464\n",
      "\n",
      "\n",
      "SIBSP_3 : 2\n",
      "         COUNT  RATIO  TARGET_MEAN\n",
      "SIBSP_3                           \n",
      "False      875  0.982        0.386\n",
      "True        16  0.018        0.250\n",
      "\n",
      "\n",
      "SIBSP_4 : 2\n",
      "         COUNT  RATIO  TARGET_MEAN\n",
      "SIBSP_4                           \n",
      "False      873  0.980        0.388\n",
      "True        18  0.020        0.167\n",
      "\n",
      "\n",
      "SIBSP_5 : 2\n",
      "         COUNT  RATIO  TARGET_MEAN\n",
      "SIBSP_5                           \n",
      "False      886  0.994        0.386\n",
      "True         5  0.006        0.000\n",
      "\n",
      "\n",
      "SIBSP_8 : 2\n",
      "         COUNT  RATIO  TARGET_MEAN\n",
      "SIBSP_8                           \n",
      "False      884  0.992        0.387\n",
      "True         7  0.008        0.000\n",
      "\n",
      "\n",
      "PARCH_1 : 2\n",
      "         COUNT  RATIO  TARGET_MEAN\n",
      "PARCH_1                           \n",
      "False      773  0.868        0.358\n",
      "True       118  0.132        0.551\n",
      "\n",
      "\n",
      "PARCH_2 : 2\n",
      "         COUNT  RATIO  TARGET_MEAN\n",
      "PARCH_2                           \n",
      "False      811  0.910        0.372\n",
      "True        80  0.090        0.500\n",
      "\n",
      "\n",
      "PARCH_3 : 2\n",
      "         COUNT  RATIO  TARGET_MEAN\n",
      "PARCH_3                           \n",
      "False      886  0.994        0.383\n",
      "True         5  0.006        0.600\n",
      "\n",
      "\n",
      "PARCH_4 : 2\n",
      "         COUNT  RATIO  TARGET_MEAN\n",
      "PARCH_4                           \n",
      "False      887  0.996        0.386\n",
      "True         4  0.004        0.000\n",
      "\n",
      "\n",
      "PARCH_5 : 2\n",
      "         COUNT  RATIO  TARGET_MEAN\n",
      "PARCH_5                           \n",
      "False      886  0.994        0.385\n",
      "True         5  0.006        0.200\n",
      "\n",
      "\n",
      "PARCH_6 : 2\n",
      "         COUNT  RATIO  TARGET_MEAN\n",
      "PARCH_6                           \n",
      "False      890  0.999        0.384\n",
      "True         1  0.001        0.000\n",
      "\n",
      "\n",
      "EMBARKED_Q : 2\n",
      "            COUNT  RATIO  TARGET_MEAN\n",
      "EMBARKED_Q                           \n",
      "False         814  0.914        0.383\n",
      "True           77  0.086        0.390\n",
      "\n",
      "\n",
      "EMBARKED_S : 2\n",
      "            COUNT  RATIO  TARGET_MEAN\n",
      "EMBARKED_S                           \n",
      "False         245  0.275        0.502\n",
      "True          646  0.725        0.339\n",
      "\n",
      "\n",
      "NEW_NAME_WORD_COUNT_4 : 2\n",
      "                       COUNT  RATIO  TARGET_MEAN\n",
      "NEW_NAME_WORD_COUNT_4                           \n",
      "False                    503  0.565        0.417\n",
      "True                     388  0.435        0.340\n",
      "\n",
      "\n",
      "NEW_NAME_WORD_COUNT_5 : 2\n",
      "                       COUNT  RATIO  TARGET_MEAN\n",
      "NEW_NAME_WORD_COUNT_5                           \n",
      "False                    795  0.892        0.379\n",
      "True                      96  0.108        0.427\n",
      "\n",
      "\n",
      "NEW_NAME_WORD_COUNT_6 : 2\n",
      "                       COUNT  RATIO  TARGET_MEAN\n",
      "NEW_NAME_WORD_COUNT_6                           \n",
      "False                    838  0.941        0.359\n",
      "True                      53  0.059        0.774\n",
      "\n",
      "\n",
      "NEW_NAME_WORD_COUNT_7 : 2\n",
      "                       COUNT  RATIO  TARGET_MEAN\n",
      "NEW_NAME_WORD_COUNT_7                           \n",
      "False                    853  0.957        0.363\n",
      "True                      38  0.043        0.842\n",
      "\n",
      "\n",
      "NEW_NAME_WORD_COUNT_8 : 2\n",
      "                       COUNT  RATIO  TARGET_MEAN\n",
      "NEW_NAME_WORD_COUNT_8                           \n",
      "False                    882  0.990        0.382\n",
      "True                       9  0.010        0.556\n",
      "\n",
      "\n",
      "NEW_NAME_WORD_COUNT_9 : 2\n",
      "                       COUNT  RATIO  TARGET_MEAN\n",
      "NEW_NAME_WORD_COUNT_9                           \n",
      "False                    890  0.999        0.383\n",
      "True                       1  0.001        1.000\n",
      "\n",
      "\n",
      "NEW_NAME_WORD_COUNT_14 : 2\n",
      "                        COUNT  RATIO  TARGET_MEAN\n",
      "NEW_NAME_WORD_COUNT_14                           \n",
      "False                     890  0.999        0.383\n",
      "True                        1  0.001        1.000\n",
      "\n",
      "\n",
      "NEW_TITLE_Miss : 2\n",
      "                COUNT  RATIO  TARGET_MEAN\n",
      "NEW_TITLE_Miss                           \n",
      "False             709  0.796        0.303\n",
      "True              182  0.204        0.698\n",
      "\n",
      "\n",
      "NEW_TITLE_Mr : 2\n",
      "              COUNT  RATIO  TARGET_MEAN\n",
      "NEW_TITLE_Mr                           \n",
      "False           374  0.420        0.698\n",
      "True            517  0.580        0.157\n",
      "\n",
      "\n",
      "NEW_TITLE_Mrs : 2\n",
      "               COUNT  RATIO  TARGET_MEAN\n",
      "NEW_TITLE_Mrs                           \n",
      "False            766  0.860        0.317\n",
      "True             125  0.140        0.792\n",
      "\n",
      "\n",
      "NEW_TITLE_Rare : 2\n",
      "                COUNT  RATIO  TARGET_MEAN\n",
      "NEW_TITLE_Rare                           \n",
      "False             864  0.970        0.382\n",
      "True               27  0.030        0.444\n",
      "\n",
      "\n",
      "NEW_FAMILY_SIZE_2 : 2\n",
      "                   COUNT  RATIO  TARGET_MEAN\n",
      "NEW_FAMILY_SIZE_2                           \n",
      "False                730  0.819        0.347\n",
      "True                 161  0.181        0.553\n",
      "\n",
      "\n",
      "NEW_FAMILY_SIZE_3 : 2\n",
      "                   COUNT  RATIO  TARGET_MEAN\n",
      "NEW_FAMILY_SIZE_3                           \n",
      "False                789  0.886        0.359\n",
      "True                 102  0.114        0.578\n",
      "\n",
      "\n",
      "NEW_FAMILY_SIZE_4 : 2\n",
      "                   COUNT  RATIO  TARGET_MEAN\n",
      "NEW_FAMILY_SIZE_4                           \n",
      "False                862  0.967        0.372\n",
      "True                  29  0.033        0.724\n",
      "\n",
      "\n",
      "NEW_FAMILY_SIZE_5 : 2\n",
      "                   COUNT  RATIO  TARGET_MEAN\n",
      "NEW_FAMILY_SIZE_5                           \n",
      "False                876  0.983        0.387\n",
      "True                  15  0.017        0.200\n",
      "\n",
      "\n",
      "NEW_FAMILY_SIZE_6 : 2\n",
      "                   COUNT  RATIO  TARGET_MEAN\n",
      "NEW_FAMILY_SIZE_6                           \n",
      "False                869  0.975        0.390\n",
      "True                  22  0.025        0.136\n",
      "\n",
      "\n",
      "NEW_FAMILY_SIZE_7 : 2\n",
      "                   COUNT  RATIO  TARGET_MEAN\n",
      "NEW_FAMILY_SIZE_7                           \n",
      "False                879  0.987        0.385\n",
      "True                  12  0.013        0.333\n",
      "\n",
      "\n",
      "NEW_FAMILY_SIZE_8 : 2\n",
      "                   COUNT  RATIO  TARGET_MEAN\n",
      "NEW_FAMILY_SIZE_8                           \n",
      "False                885  0.993        0.386\n",
      "True                   6  0.007        0.000\n",
      "\n",
      "\n",
      "NEW_FAMILY_SIZE_11 : 2\n",
      "                    COUNT  RATIO  TARGET_MEAN\n",
      "NEW_FAMILY_SIZE_11                           \n",
      "False                 884  0.992        0.387\n",
      "True                    7  0.008        0.000\n",
      "\n",
      "\n",
      "NEW_AGE_CAT_senior : 2\n",
      "                    COUNT  RATIO  TARGET_MEAN\n",
      "NEW_AGE_CAT_senior                           \n",
      "False                 852  0.956        0.387\n",
      "True                   39  0.044        0.308\n",
      "\n",
      "\n",
      "NEW_AGE_CAT_young : 2\n",
      "                   COUNT  RATIO  TARGET_MEAN\n",
      "NEW_AGE_CAT_young                           \n",
      "False                774  0.869        0.360\n",
      "True                 117  0.131        0.538\n",
      "\n",
      "\n",
      "NEW_SEX_CAT_maturemale : 2\n",
      "                        COUNT  RATIO  TARGET_MEAN\n",
      "NEW_SEX_CAT_maturemale                           \n",
      "False                     490  0.550        0.555\n",
      "True                      401  0.450        0.175\n",
      "\n",
      "\n",
      "NEW_SEX_CAT_seniorfemale : 2\n",
      "                          COUNT  RATIO  TARGET_MEAN\n",
      "NEW_SEX_CAT_seniorfemale                           \n",
      "False                       869  0.975        0.371\n",
      "True                         22  0.025        0.909\n",
      "\n",
      "\n",
      "NEW_SEX_CAT_seniormale : 2\n",
      "                        COUNT  RATIO  TARGET_MEAN\n",
      "NEW_SEX_CAT_seniormale                           \n",
      "False                     839  0.942        0.399\n",
      "True                       52  0.058        0.135\n",
      "\n",
      "\n",
      "NEW_SEX_CAT_youngfemale : 2\n",
      "                         COUNT  RATIO  TARGET_MEAN\n",
      "NEW_SEX_CAT_youngfemale                           \n",
      "False                      771  0.865        0.341\n",
      "True                       120  0.135        0.658\n",
      "\n",
      "\n",
      "NEW_SEX_CAT_youngmale : 2\n",
      "                       COUNT  RATIO  TARGET_MEAN\n",
      "NEW_SEX_CAT_youngmale                           \n",
      "False                    767  0.861        0.404\n",
      "True                     124  0.139        0.258\n",
      "\n",
      "\n"
     ]
    }
   ],
   "source": [
    "rare_analyser(df, \"SURVIVED\", cat_cols)"
   ]
  },
  {
   "cell_type": "code",
   "execution_count": 52,
   "id": "a9fbdbd8-5e7d-459a-af61-66d25bda12a0",
   "metadata": {
    "tags": []
   },
   "outputs": [],
   "source": [
    "useless_cols = [col for col in df.columns if df[col].nunique() == 2 and\n",
    "                (df[col].value_counts() / len(df) < 0.01).any(axis=None)]"
   ]
  },
  {
   "cell_type": "code",
   "execution_count": 53,
   "id": "dabd3351-c73a-47ae-9deb-357253b439c5",
   "metadata": {
    "tags": []
   },
   "outputs": [
    {
     "data": {
      "text/plain": [
       "['SIBSP_5',\n",
       " 'SIBSP_8',\n",
       " 'PARCH_3',\n",
       " 'PARCH_4',\n",
       " 'PARCH_5',\n",
       " 'PARCH_6',\n",
       " 'NEW_NAME_WORD_COUNT_9',\n",
       " 'NEW_NAME_WORD_COUNT_14',\n",
       " 'NEW_FAMILY_SIZE_8',\n",
       " 'NEW_FAMILY_SIZE_11']"
      ]
     },
     "execution_count": 53,
     "metadata": {},
     "output_type": "execute_result"
    }
   ],
   "source": [
    "useless_cols"
   ]
  },
  {
   "cell_type": "code",
   "execution_count": 54,
   "id": "2ed6fbb2-a3c4-4313-b6ef-b4f81a269978",
   "metadata": {
    "tags": []
   },
   "outputs": [],
   "source": [
    "scaler = StandardScaler()"
   ]
  },
  {
   "cell_type": "code",
   "execution_count": 55,
   "id": "0c29fbfb-0cb8-48c7-8e16-56415d5f8e44",
   "metadata": {
    "tags": []
   },
   "outputs": [],
   "source": [
    "df[num_cols] = scaler.fit_transform(df[num_cols])"
   ]
  },
  {
   "cell_type": "code",
   "execution_count": 56,
   "id": "a8a374a0-a7d8-4e16-bcbd-ac2a9df6287b",
   "metadata": {
    "tags": []
   },
   "outputs": [
    {
     "data": {
      "text/html": [
       "<div>\n",
       "<style scoped>\n",
       "    .dataframe tbody tr th:only-of-type {\n",
       "        vertical-align: middle;\n",
       "    }\n",
       "\n",
       "    .dataframe tbody tr th {\n",
       "        vertical-align: top;\n",
       "    }\n",
       "\n",
       "    .dataframe thead th {\n",
       "        text-align: right;\n",
       "    }\n",
       "</style>\n",
       "<table border=\"1\" class=\"dataframe\">\n",
       "  <thead>\n",
       "    <tr style=\"text-align: right;\">\n",
       "      <th></th>\n",
       "      <th>AGE</th>\n",
       "      <th>FARE</th>\n",
       "      <th>NEW_NAME_COUNT</th>\n",
       "      <th>NEW_AGE_PCLASS</th>\n",
       "    </tr>\n",
       "  </thead>\n",
       "  <tbody>\n",
       "    <tr>\n",
       "      <th>0</th>\n",
       "      <td>-0.561</td>\n",
       "      <td>-0.821</td>\n",
       "      <td>-0.437</td>\n",
       "      <td>0.066</td>\n",
       "    </tr>\n",
       "    <tr>\n",
       "      <th>1</th>\n",
       "      <td>0.663</td>\n",
       "      <td>2.032</td>\n",
       "      <td>2.248</td>\n",
       "      <td>-0.790</td>\n",
       "    </tr>\n",
       "    <tr>\n",
       "      <th>2</th>\n",
       "      <td>-0.255</td>\n",
       "      <td>-0.788</td>\n",
       "      <td>-0.559</td>\n",
       "      <td>0.434</td>\n",
       "    </tr>\n",
       "    <tr>\n",
       "      <th>3</th>\n",
       "      <td>0.434</td>\n",
       "      <td>1.419</td>\n",
       "      <td>2.126</td>\n",
       "      <td>-0.882</td>\n",
       "    </tr>\n",
       "    <tr>\n",
       "      <th>4</th>\n",
       "      <td>0.434</td>\n",
       "      <td>-0.781</td>\n",
       "      <td>-0.315</td>\n",
       "      <td>1.260</td>\n",
       "    </tr>\n",
       "  </tbody>\n",
       "</table>\n",
       "</div>"
      ],
      "text/plain": [
       "     AGE   FARE  NEW_NAME_COUNT  NEW_AGE_PCLASS\n",
       "0 -0.561 -0.821          -0.437           0.066\n",
       "1  0.663  2.032           2.248          -0.790\n",
       "2 -0.255 -0.788          -0.559           0.434\n",
       "3  0.434  1.419           2.126          -0.882\n",
       "4  0.434 -0.781          -0.315           1.260"
      ]
     },
     "execution_count": 56,
     "metadata": {},
     "output_type": "execute_result"
    }
   ],
   "source": [
    "df[num_cols].head()"
   ]
  },
  {
   "cell_type": "code",
   "execution_count": 57,
   "id": "1a581f26-562b-4d57-95c9-6a215c40d235",
   "metadata": {
    "tags": []
   },
   "outputs": [
    {
     "data": {
      "text/html": [
       "<div>\n",
       "<style scoped>\n",
       "    .dataframe tbody tr th:only-of-type {\n",
       "        vertical-align: middle;\n",
       "    }\n",
       "\n",
       "    .dataframe tbody tr th {\n",
       "        vertical-align: top;\n",
       "    }\n",
       "\n",
       "    .dataframe thead th {\n",
       "        text-align: right;\n",
       "    }\n",
       "</style>\n",
       "<table border=\"1\" class=\"dataframe\">\n",
       "  <thead>\n",
       "    <tr style=\"text-align: right;\">\n",
       "      <th></th>\n",
       "      <th>PASSENGERID</th>\n",
       "      <th>SURVIVED</th>\n",
       "      <th>SEX</th>\n",
       "      <th>AGE</th>\n",
       "      <th>FARE</th>\n",
       "      <th>NEW_CABIN_BOOL</th>\n",
       "      <th>NEW_NAME_COUNT</th>\n",
       "      <th>NEW_NAME_DR</th>\n",
       "      <th>NEW_AGE_PCLASS</th>\n",
       "      <th>NEW_IS_ALONE</th>\n",
       "      <th>PCLASS_2</th>\n",
       "      <th>PCLASS_3</th>\n",
       "      <th>SIBSP_1</th>\n",
       "      <th>SIBSP_2</th>\n",
       "      <th>SIBSP_3</th>\n",
       "      <th>SIBSP_4</th>\n",
       "      <th>SIBSP_5</th>\n",
       "      <th>SIBSP_8</th>\n",
       "      <th>PARCH_1</th>\n",
       "      <th>PARCH_2</th>\n",
       "      <th>PARCH_3</th>\n",
       "      <th>PARCH_4</th>\n",
       "      <th>PARCH_5</th>\n",
       "      <th>PARCH_6</th>\n",
       "      <th>EMBARKED_Q</th>\n",
       "      <th>EMBARKED_S</th>\n",
       "      <th>NEW_NAME_WORD_COUNT_4</th>\n",
       "      <th>NEW_NAME_WORD_COUNT_5</th>\n",
       "      <th>NEW_NAME_WORD_COUNT_6</th>\n",
       "      <th>NEW_NAME_WORD_COUNT_7</th>\n",
       "      <th>NEW_NAME_WORD_COUNT_8</th>\n",
       "      <th>NEW_NAME_WORD_COUNT_9</th>\n",
       "      <th>NEW_NAME_WORD_COUNT_14</th>\n",
       "      <th>NEW_TITLE_Miss</th>\n",
       "      <th>NEW_TITLE_Mr</th>\n",
       "      <th>NEW_TITLE_Mrs</th>\n",
       "      <th>NEW_TITLE_Rare</th>\n",
       "      <th>NEW_FAMILY_SIZE_2</th>\n",
       "      <th>NEW_FAMILY_SIZE_3</th>\n",
       "      <th>NEW_FAMILY_SIZE_4</th>\n",
       "      <th>NEW_FAMILY_SIZE_5</th>\n",
       "      <th>NEW_FAMILY_SIZE_6</th>\n",
       "      <th>NEW_FAMILY_SIZE_7</th>\n",
       "      <th>NEW_FAMILY_SIZE_8</th>\n",
       "      <th>NEW_FAMILY_SIZE_11</th>\n",
       "      <th>NEW_AGE_CAT_senior</th>\n",
       "      <th>NEW_AGE_CAT_young</th>\n",
       "      <th>NEW_SEX_CAT_maturemale</th>\n",
       "      <th>NEW_SEX_CAT_seniorfemale</th>\n",
       "      <th>NEW_SEX_CAT_seniormale</th>\n",
       "      <th>NEW_SEX_CAT_youngfemale</th>\n",
       "      <th>NEW_SEX_CAT_youngmale</th>\n",
       "    </tr>\n",
       "  </thead>\n",
       "  <tbody>\n",
       "    <tr>\n",
       "      <th>0</th>\n",
       "      <td>1</td>\n",
       "      <td>0</td>\n",
       "      <td>1</td>\n",
       "      <td>-0.561</td>\n",
       "      <td>-0.821</td>\n",
       "      <td>0</td>\n",
       "      <td>-0.437</td>\n",
       "      <td>0</td>\n",
       "      <td>0.066</td>\n",
       "      <td>0</td>\n",
       "      <td>False</td>\n",
       "      <td>True</td>\n",
       "      <td>True</td>\n",
       "      <td>False</td>\n",
       "      <td>False</td>\n",
       "      <td>False</td>\n",
       "      <td>False</td>\n",
       "      <td>False</td>\n",
       "      <td>False</td>\n",
       "      <td>False</td>\n",
       "      <td>False</td>\n",
       "      <td>False</td>\n",
       "      <td>False</td>\n",
       "      <td>False</td>\n",
       "      <td>False</td>\n",
       "      <td>True</td>\n",
       "      <td>True</td>\n",
       "      <td>False</td>\n",
       "      <td>False</td>\n",
       "      <td>False</td>\n",
       "      <td>False</td>\n",
       "      <td>False</td>\n",
       "      <td>False</td>\n",
       "      <td>False</td>\n",
       "      <td>True</td>\n",
       "      <td>False</td>\n",
       "      <td>False</td>\n",
       "      <td>True</td>\n",
       "      <td>False</td>\n",
       "      <td>False</td>\n",
       "      <td>False</td>\n",
       "      <td>False</td>\n",
       "      <td>False</td>\n",
       "      <td>False</td>\n",
       "      <td>False</td>\n",
       "      <td>False</td>\n",
       "      <td>False</td>\n",
       "      <td>True</td>\n",
       "      <td>False</td>\n",
       "      <td>False</td>\n",
       "      <td>False</td>\n",
       "      <td>False</td>\n",
       "    </tr>\n",
       "    <tr>\n",
       "      <th>1</th>\n",
       "      <td>2</td>\n",
       "      <td>1</td>\n",
       "      <td>0</td>\n",
       "      <td>0.663</td>\n",
       "      <td>2.032</td>\n",
       "      <td>1</td>\n",
       "      <td>2.248</td>\n",
       "      <td>0</td>\n",
       "      <td>-0.790</td>\n",
       "      <td>0</td>\n",
       "      <td>False</td>\n",
       "      <td>False</td>\n",
       "      <td>True</td>\n",
       "      <td>False</td>\n",
       "      <td>False</td>\n",
       "      <td>False</td>\n",
       "      <td>False</td>\n",
       "      <td>False</td>\n",
       "      <td>False</td>\n",
       "      <td>False</td>\n",
       "      <td>False</td>\n",
       "      <td>False</td>\n",
       "      <td>False</td>\n",
       "      <td>False</td>\n",
       "      <td>False</td>\n",
       "      <td>False</td>\n",
       "      <td>False</td>\n",
       "      <td>False</td>\n",
       "      <td>False</td>\n",
       "      <td>True</td>\n",
       "      <td>False</td>\n",
       "      <td>False</td>\n",
       "      <td>False</td>\n",
       "      <td>False</td>\n",
       "      <td>False</td>\n",
       "      <td>True</td>\n",
       "      <td>False</td>\n",
       "      <td>True</td>\n",
       "      <td>False</td>\n",
       "      <td>False</td>\n",
       "      <td>False</td>\n",
       "      <td>False</td>\n",
       "      <td>False</td>\n",
       "      <td>False</td>\n",
       "      <td>False</td>\n",
       "      <td>False</td>\n",
       "      <td>False</td>\n",
       "      <td>False</td>\n",
       "      <td>False</td>\n",
       "      <td>False</td>\n",
       "      <td>False</td>\n",
       "      <td>False</td>\n",
       "    </tr>\n",
       "    <tr>\n",
       "      <th>2</th>\n",
       "      <td>3</td>\n",
       "      <td>1</td>\n",
       "      <td>0</td>\n",
       "      <td>-0.255</td>\n",
       "      <td>-0.788</td>\n",
       "      <td>0</td>\n",
       "      <td>-0.559</td>\n",
       "      <td>0</td>\n",
       "      <td>0.434</td>\n",
       "      <td>1</td>\n",
       "      <td>False</td>\n",
       "      <td>True</td>\n",
       "      <td>False</td>\n",
       "      <td>False</td>\n",
       "      <td>False</td>\n",
       "      <td>False</td>\n",
       "      <td>False</td>\n",
       "      <td>False</td>\n",
       "      <td>False</td>\n",
       "      <td>False</td>\n",
       "      <td>False</td>\n",
       "      <td>False</td>\n",
       "      <td>False</td>\n",
       "      <td>False</td>\n",
       "      <td>False</td>\n",
       "      <td>True</td>\n",
       "      <td>False</td>\n",
       "      <td>False</td>\n",
       "      <td>False</td>\n",
       "      <td>False</td>\n",
       "      <td>False</td>\n",
       "      <td>False</td>\n",
       "      <td>False</td>\n",
       "      <td>True</td>\n",
       "      <td>False</td>\n",
       "      <td>False</td>\n",
       "      <td>False</td>\n",
       "      <td>False</td>\n",
       "      <td>False</td>\n",
       "      <td>False</td>\n",
       "      <td>False</td>\n",
       "      <td>False</td>\n",
       "      <td>False</td>\n",
       "      <td>False</td>\n",
       "      <td>False</td>\n",
       "      <td>False</td>\n",
       "      <td>False</td>\n",
       "      <td>False</td>\n",
       "      <td>False</td>\n",
       "      <td>False</td>\n",
       "      <td>False</td>\n",
       "      <td>False</td>\n",
       "    </tr>\n",
       "    <tr>\n",
       "      <th>3</th>\n",
       "      <td>4</td>\n",
       "      <td>1</td>\n",
       "      <td>0</td>\n",
       "      <td>0.434</td>\n",
       "      <td>1.419</td>\n",
       "      <td>1</td>\n",
       "      <td>2.126</td>\n",
       "      <td>0</td>\n",
       "      <td>-0.882</td>\n",
       "      <td>0</td>\n",
       "      <td>False</td>\n",
       "      <td>False</td>\n",
       "      <td>True</td>\n",
       "      <td>False</td>\n",
       "      <td>False</td>\n",
       "      <td>False</td>\n",
       "      <td>False</td>\n",
       "      <td>False</td>\n",
       "      <td>False</td>\n",
       "      <td>False</td>\n",
       "      <td>False</td>\n",
       "      <td>False</td>\n",
       "      <td>False</td>\n",
       "      <td>False</td>\n",
       "      <td>False</td>\n",
       "      <td>True</td>\n",
       "      <td>False</td>\n",
       "      <td>False</td>\n",
       "      <td>False</td>\n",
       "      <td>True</td>\n",
       "      <td>False</td>\n",
       "      <td>False</td>\n",
       "      <td>False</td>\n",
       "      <td>False</td>\n",
       "      <td>False</td>\n",
       "      <td>True</td>\n",
       "      <td>False</td>\n",
       "      <td>True</td>\n",
       "      <td>False</td>\n",
       "      <td>False</td>\n",
       "      <td>False</td>\n",
       "      <td>False</td>\n",
       "      <td>False</td>\n",
       "      <td>False</td>\n",
       "      <td>False</td>\n",
       "      <td>False</td>\n",
       "      <td>False</td>\n",
       "      <td>False</td>\n",
       "      <td>False</td>\n",
       "      <td>False</td>\n",
       "      <td>False</td>\n",
       "      <td>False</td>\n",
       "    </tr>\n",
       "    <tr>\n",
       "      <th>4</th>\n",
       "      <td>5</td>\n",
       "      <td>0</td>\n",
       "      <td>1</td>\n",
       "      <td>0.434</td>\n",
       "      <td>-0.781</td>\n",
       "      <td>0</td>\n",
       "      <td>-0.315</td>\n",
       "      <td>0</td>\n",
       "      <td>1.260</td>\n",
       "      <td>1</td>\n",
       "      <td>False</td>\n",
       "      <td>True</td>\n",
       "      <td>False</td>\n",
       "      <td>False</td>\n",
       "      <td>False</td>\n",
       "      <td>False</td>\n",
       "      <td>False</td>\n",
       "      <td>False</td>\n",
       "      <td>False</td>\n",
       "      <td>False</td>\n",
       "      <td>False</td>\n",
       "      <td>False</td>\n",
       "      <td>False</td>\n",
       "      <td>False</td>\n",
       "      <td>False</td>\n",
       "      <td>True</td>\n",
       "      <td>True</td>\n",
       "      <td>False</td>\n",
       "      <td>False</td>\n",
       "      <td>False</td>\n",
       "      <td>False</td>\n",
       "      <td>False</td>\n",
       "      <td>False</td>\n",
       "      <td>False</td>\n",
       "      <td>True</td>\n",
       "      <td>False</td>\n",
       "      <td>False</td>\n",
       "      <td>False</td>\n",
       "      <td>False</td>\n",
       "      <td>False</td>\n",
       "      <td>False</td>\n",
       "      <td>False</td>\n",
       "      <td>False</td>\n",
       "      <td>False</td>\n",
       "      <td>False</td>\n",
       "      <td>False</td>\n",
       "      <td>False</td>\n",
       "      <td>True</td>\n",
       "      <td>False</td>\n",
       "      <td>False</td>\n",
       "      <td>False</td>\n",
       "      <td>False</td>\n",
       "    </tr>\n",
       "  </tbody>\n",
       "</table>\n",
       "</div>"
      ],
      "text/plain": [
       "   PASSENGERID  SURVIVED  SEX    AGE   FARE  NEW_CABIN_BOOL  NEW_NAME_COUNT  NEW_NAME_DR  NEW_AGE_PCLASS  NEW_IS_ALONE  PCLASS_2  PCLASS_3  SIBSP_1  SIBSP_2  SIBSP_3  SIBSP_4  SIBSP_5  SIBSP_8  PARCH_1  PARCH_2  PARCH_3  PARCH_4  PARCH_5  PARCH_6  EMBARKED_Q  EMBARKED_S  NEW_NAME_WORD_COUNT_4  NEW_NAME_WORD_COUNT_5  NEW_NAME_WORD_COUNT_6  NEW_NAME_WORD_COUNT_7  NEW_NAME_WORD_COUNT_8  NEW_NAME_WORD_COUNT_9  NEW_NAME_WORD_COUNT_14  NEW_TITLE_Miss  NEW_TITLE_Mr  NEW_TITLE_Mrs  NEW_TITLE_Rare  \\\n",
       "0            1         0    1 -0.561 -0.821               0          -0.437            0           0.066             0     False      True     True    False    False    False    False    False    False    False    False    False    False    False       False        True                   True                  False                  False                  False                  False                  False                   False           False          True          False           False   \n",
       "1            2         1    0  0.663  2.032               1           2.248            0          -0.790             0     False     False     True    False    False    False    False    False    False    False    False    False    False    False       False       False                  False                  False                  False                   True                  False                  False                   False           False         False           True           False   \n",
       "2            3         1    0 -0.255 -0.788               0          -0.559            0           0.434             1     False      True    False    False    False    False    False    False    False    False    False    False    False    False       False        True                  False                  False                  False                  False                  False                  False                   False            True         False          False           False   \n",
       "3            4         1    0  0.434  1.419               1           2.126            0          -0.882             0     False     False     True    False    False    False    False    False    False    False    False    False    False    False       False        True                  False                  False                  False                   True                  False                  False                   False           False         False           True           False   \n",
       "4            5         0    1  0.434 -0.781               0          -0.315            0           1.260             1     False      True    False    False    False    False    False    False    False    False    False    False    False    False       False        True                   True                  False                  False                  False                  False                  False                   False           False          True          False           False   \n",
       "\n",
       "   NEW_FAMILY_SIZE_2  NEW_FAMILY_SIZE_3  NEW_FAMILY_SIZE_4  NEW_FAMILY_SIZE_5  NEW_FAMILY_SIZE_6  NEW_FAMILY_SIZE_7  NEW_FAMILY_SIZE_8  NEW_FAMILY_SIZE_11  NEW_AGE_CAT_senior  NEW_AGE_CAT_young  NEW_SEX_CAT_maturemale  NEW_SEX_CAT_seniorfemale  NEW_SEX_CAT_seniormale  NEW_SEX_CAT_youngfemale  NEW_SEX_CAT_youngmale  \n",
       "0               True              False              False              False              False              False              False               False               False              False                    True                     False                   False                    False                  False  \n",
       "1               True              False              False              False              False              False              False               False               False              False                   False                     False                   False                    False                  False  \n",
       "2              False              False              False              False              False              False              False               False               False              False                   False                     False                   False                    False                  False  \n",
       "3               True              False              False              False              False              False              False               False               False              False                   False                     False                   False                    False                  False  \n",
       "4              False              False              False              False              False              False              False               False               False              False                    True                     False                   False                    False                  False  "
      ]
     },
     "execution_count": 57,
     "metadata": {},
     "output_type": "execute_result"
    }
   ],
   "source": [
    "df.head()"
   ]
  },
  {
   "cell_type": "code",
   "execution_count": 58,
   "id": "b1dce78d-25a2-464d-9a59-25b2e3459568",
   "metadata": {
    "tags": []
   },
   "outputs": [
    {
     "data": {
      "text/plain": [
       "(891, 52)"
      ]
     },
     "execution_count": 58,
     "metadata": {},
     "output_type": "execute_result"
    }
   ],
   "source": [
    "df.shape"
   ]
  },
  {
   "cell_type": "code",
   "execution_count": 60,
   "id": "fd7117e5-5294-4a88-8734-f83684883403",
   "metadata": {},
   "outputs": [],
   "source": [
    "from sklearn.model_selection import train_test_split\n",
    "\n",
    "y = df[\"SURVIVED\"]\n",
    "X = df.drop([\"PASSENGERID\", \"SURVIVED\"], axis=1)\n",
    "\n",
    "X_train, X_test, y_train, y_test = train_test_split(X, y, test_size=0.30, random_state=17)"
   ]
  },
  {
   "cell_type": "code",
   "execution_count": 63,
   "id": "f8ce46b1-33f8-4337-a0ea-b09fc4f62d67",
   "metadata": {
    "tags": []
   },
   "outputs": [],
   "source": [
    "from sklearn.ensemble import RandomForestClassifier\n",
    "from sklearn.metrics import accuracy_score"
   ]
  },
  {
   "cell_type": "code",
   "execution_count": 64,
   "id": "ff2512f5-77f1-49f5-8f30-ad340ca7bb7f",
   "metadata": {
    "tags": []
   },
   "outputs": [
    {
     "data": {
      "text/plain": [
       "0.8059701492537313"
      ]
     },
     "execution_count": 64,
     "metadata": {},
     "output_type": "execute_result"
    }
   ],
   "source": [
    "rf_model = RandomForestClassifier(random_state=46).fit(X_train, y_train)\n",
    "y_pred = rf_model.predict(X_test)\n",
    "accuracy_score(y_pred, y_test)"
   ]
  },
  {
   "cell_type": "code",
   "execution_count": null,
   "id": "ee4cffd5-f85e-4b4b-b62f-e03c6ef87605",
   "metadata": {},
   "outputs": [],
   "source": []
  }
 ],
 "metadata": {
  "kernelspec": {
   "display_name": "Python 3 (ipykernel)",
   "language": "python",
   "name": "python3"
  },
  "language_info": {
   "codemirror_mode": {
    "name": "ipython",
    "version": 3
   },
   "file_extension": ".py",
   "mimetype": "text/x-python",
   "name": "python",
   "nbconvert_exporter": "python",
   "pygments_lexer": "ipython3",
   "version": "3.11.4"
  }
 },
 "nbformat": 4,
 "nbformat_minor": 5
}
